{
 "cells": [
  {
   "cell_type": "code",
   "execution_count": 1,
   "metadata": {
    "_cell_guid": "9ad33c1f-409f-4791-b11e-6dde9197d9ba",
    "_uuid": "d6e39726-5f4e-40d2-b731-b45a2763c596",
    "execution": {
     "iopub.execute_input": "2022-03-23T17:49:20.866731Z",
     "iopub.status.busy": "2022-03-23T17:49:20.866024Z",
     "iopub.status.idle": "2022-03-23T17:49:22.216710Z",
     "shell.execute_reply": "2022-03-23T17:49:22.215322Z",
     "shell.execute_reply.started": "2022-03-23T17:49:20.866587Z"
    },
    "jupyter": {
     "outputs_hidden": false
    }
   },
   "outputs": [],
   "source": [
    "# This Python 3 environment comes with many helpful analytics libraries installed\n",
    "# It is defined by the kaggle/python Docker image: https://github.com/kaggle/docker-python\n",
    "# For example, here's several helpful packages to load\n",
    "\n",
    "import numpy as np # linear algebra\n",
    "import pandas as pd # data processing, CSV file I/O (e.g. pd.read_csv)\n",
    "import seaborn as sns\n",
    "import matplotlib.pyplot as plt\n",
    "\n",
    "from sklearn.model_selection import train_test_split\n",
    "from sklearn.linear_model import LinearRegression\n",
    "from sklearn import metrics\n",
    "\n",
    "# Input data files are available in the read-only \"../input/\" directory\n",
    "# For example, running this (by clicking run or pressing Shift+Enter) will list all files under the input directory\n",
    "\n",
    "import os\n",
    "\n",
    "# You can write up to 20GB to the current directory (/kaggle/working/) that gets preserved as output when you create a version using \"Save & Run All\" \n",
    "# You can also write temporary files to /kaggle/temp/, but they won't be saved outside of the current session"
   ]
  },
  {
   "cell_type": "code",
   "execution_count": 2,
   "metadata": {},
   "outputs": [
    {
     "name": "stdout",
     "output_type": "stream",
     "text": [
      "data\\ads.csv\n",
      "data\\equipements.csv\n",
      "data\\neighborhood_facilities.csv\n",
      "data\\transports.csv\n"
     ]
    }
   ],
   "source": [
    "for dirname, _, filenames in os.walk('data'):\n",
    "    for filename in filenames:\n",
    "        print(os.path.join(dirname, filename))"
   ]
  },
  {
   "cell_type": "code",
   "execution_count": 3,
   "metadata": {
    "_cell_guid": "fb65a695-1cba-4f16-ac84-bc270f5202e7",
    "_uuid": "669ec52c-9dd3-4346-8148-b40e0d84eb2e",
    "execution": {
     "iopub.execute_input": "2022-03-23T17:49:22.218759Z",
     "iopub.status.busy": "2022-03-23T17:49:22.218487Z",
     "iopub.status.idle": "2022-03-23T17:49:22.222691Z",
     "shell.execute_reply": "2022-03-23T17:49:22.221852Z",
     "shell.execute_reply.started": "2022-03-23T17:49:22.218731Z"
    },
    "jupyter": {
     "outputs_hidden": false
    }
   },
   "outputs": [],
   "source": [
    "#pd.read_csv ('/kaggle/input/real-estate-paris/transports.csv')\n",
    "#pd.read_csv ('/kaggle/input/real-estate-paris/equipements.csv')\n",
    "#pd.read_csv ('/kaggle/input/real-estate-paris/neighborhood_facilities.csv')"
   ]
  },
  {
   "cell_type": "code",
   "execution_count": 4,
   "metadata": {
    "_cell_guid": "e6294470-d4a9-42e5-a027-84e432658a67",
    "_uuid": "84d096c5-f578-4ebd-b5ae-75abdbbdb7f0",
    "execution": {
     "iopub.execute_input": "2022-03-23T17:49:22.224262Z",
     "iopub.status.busy": "2022-03-23T17:49:22.224027Z",
     "iopub.status.idle": "2022-03-23T17:49:22.338454Z",
     "shell.execute_reply": "2022-03-23T17:49:22.337101Z",
     "shell.execute_reply.started": "2022-03-23T17:49:22.224234Z"
    },
    "jupyter": {
     "outputs_hidden": false
    },
    "scrolled": false
   },
   "outputs": [
    {
     "data": {
      "text/html": [
       "<div>\n",
       "<style scoped>\n",
       "    .dataframe tbody tr th:only-of-type {\n",
       "        vertical-align: middle;\n",
       "    }\n",
       "\n",
       "    .dataframe tbody tr th {\n",
       "        vertical-align: top;\n",
       "    }\n",
       "\n",
       "    .dataframe thead th {\n",
       "        text-align: right;\n",
       "    }\n",
       "</style>\n",
       "<table border=\"1\" class=\"dataframe\">\n",
       "  <thead>\n",
       "    <tr style=\"text-align: right;\">\n",
       "      <th></th>\n",
       "      <th>id</th>\n",
       "      <th>description</th>\n",
       "      <th>adress</th>\n",
       "      <th>date_pub</th>\n",
       "      <th>date_update</th>\n",
       "      <th>price</th>\n",
       "      <th>fee</th>\n",
       "    </tr>\n",
       "  </thead>\n",
       "  <tbody>\n",
       "    <tr>\n",
       "      <th>0</th>\n",
       "      <td>ad_1917</td>\n",
       "      <td>PARIS 17ème. AVENUE NIEL *** Vidéo disponible ...</td>\n",
       "      <td>Achat appartement 2 pièces 63 m²Paris 17e 7501...</td>\n",
       "      <td>Publiée le 4 déc. 2021</td>\n",
       "      <td>Modifiée le 30 déc. 2021</td>\n",
       "      <td>640 000 €</td>\n",
       "      <td>Honoraires à la charge du vendeur</td>\n",
       "    </tr>\n",
       "    <tr>\n",
       "      <th>1</th>\n",
       "      <td>ad_1454</td>\n",
       "      <td>Appartement Paris 3 pièce(s) 53 m2. Stéphane P...</td>\n",
       "      <td>Achat appartement 3 pièces 53 m²Paris 18e 7501...</td>\n",
       "      <td>Publiée le 16 déc. 2021</td>\n",
       "      <td>Modifiée le 16 déc. 2021</td>\n",
       "      <td>556 500 €</td>\n",
       "      <td>Honoraires : 5,00% TTC inclus à la charge de l...</td>\n",
       "    </tr>\n",
       "    <tr>\n",
       "      <th>2</th>\n",
       "      <td>ad_1794</td>\n",
       "      <td>Vente Appartement 2 pièces de 31m² - 75018 Par...</td>\n",
       "      <td>Achat appartement 2 pièces 31 m²Paris 18e 7501...</td>\n",
       "      <td>Publiée le 8 déc. 2021</td>\n",
       "      <td>Modifiée le 28 déc. 2021</td>\n",
       "      <td>305 000 €</td>\n",
       "      <td>Honoraires à la charge du vendeur</td>\n",
       "    </tr>\n",
       "    <tr>\n",
       "      <th>3</th>\n",
       "      <td>ad_1519</td>\n",
       "      <td>A vendre, en exclusivité, dans le 11e arrondis...</td>\n",
       "      <td>Achat appartement 2 pièces 31 m²Paris 11e 7501...</td>\n",
       "      <td>Publiée le 15 déc. 2021</td>\n",
       "      <td>Modifiée le 29 déc. 2021</td>\n",
       "      <td>380 000 €</td>\n",
       "      <td>Honoraires : 4,40% TTC inclus à la charge de l...</td>\n",
       "    </tr>\n",
       "    <tr>\n",
       "      <th>4</th>\n",
       "      <td>ad_1779</td>\n",
       "      <td>Gambetta 2 pièce(s) 40 m2. Rue d'Annam, à quel...</td>\n",
       "      <td>Achat appartement 2 pièces 40 m²Paris 20e 7502...</td>\n",
       "      <td>Publiée le 24 nov. 2021</td>\n",
       "      <td>Modifiée le 29 déc. 2021</td>\n",
       "      <td>368 000 €</td>\n",
       "      <td>Honoraires : 5,14% TTC inclus à la charge de l...</td>\n",
       "    </tr>\n",
       "    <tr>\n",
       "      <th>...</th>\n",
       "      <td>...</td>\n",
       "      <td>...</td>\n",
       "      <td>...</td>\n",
       "      <td>...</td>\n",
       "      <td>...</td>\n",
       "      <td>...</td>\n",
       "      <td>...</td>\n",
       "    </tr>\n",
       "    <tr>\n",
       "      <th>1870</th>\n",
       "      <td>ad_741</td>\n",
       "      <td>Appartement familial - Nation. Le Groupe H&amp;amp...</td>\n",
       "      <td>Achat appartement 6 pièces 168 m²Paris 12e 750...</td>\n",
       "      <td>Publiée il y a plus de 2 mois</td>\n",
       "      <td>Modifiée le 29 déc. 2021</td>\n",
       "      <td>1 697 000 €</td>\n",
       "      <td>Honoraires : 1,62% TTC inclus à la charge de l...</td>\n",
       "    </tr>\n",
       "    <tr>\n",
       "      <th>1871</th>\n",
       "      <td>ad_1600</td>\n",
       "      <td>Village de Passy - 5 pièces - 195,51 m². Villa...</td>\n",
       "      <td>Achat appartement 5 pièces 200 m²Paris 16e 750...</td>\n",
       "      <td>Publiée le 14 déc. 2021</td>\n",
       "      <td>NaN</td>\n",
       "      <td>2 370 000 €</td>\n",
       "      <td>Honoraires : 3,04% TTC inclus à la charge de l...</td>\n",
       "    </tr>\n",
       "    <tr>\n",
       "      <th>1872</th>\n",
       "      <td>ad_1441</td>\n",
       "      <td>Appartement 2 pièces de 46m² | Rue Clisson | P...</td>\n",
       "      <td>Achat appartement 2 pièces 46 m²Paris 13e 7501...</td>\n",
       "      <td>Publiée le 16 déc. 2021</td>\n",
       "      <td>NaN</td>\n",
       "      <td>441 000 €</td>\n",
       "      <td>Honoraires à la charge du vendeur</td>\n",
       "    </tr>\n",
       "    <tr>\n",
       "      <th>1873</th>\n",
       "      <td>ad_380</td>\n",
       "      <td>Duplex 3 pièces avec terrasse - Pernety XVIème...</td>\n",
       "      <td>Achat duplex 3 pièces 53 m²Paris 14e 75014 (Pe...</td>\n",
       "      <td>Publiée il y a plus de 2 mois</td>\n",
       "      <td>Modifiée le 18 déc. 2021</td>\n",
       "      <td>785 000 €</td>\n",
       "      <td>Honoraires : 4,67% TTC inclus à la charge de l...</td>\n",
       "    </tr>\n",
       "    <tr>\n",
       "      <th>1874</th>\n",
       "      <td>ad_534</td>\n",
       "      <td>PARIS 18EME -AVE CLICHY-Idéal 1er achat. PARIS...</td>\n",
       "      <td>Achat appartement 1 pièce 13 m²Paris 18e 75018...</td>\n",
       "      <td>Publiée le 24 nov. 2021</td>\n",
       "      <td>Modifiée le 18 déc. 2021</td>\n",
       "      <td>165 000 €</td>\n",
       "      <td>Honoraires à la charge du vendeur</td>\n",
       "    </tr>\n",
       "  </tbody>\n",
       "</table>\n",
       "<p>1875 rows × 7 columns</p>\n",
       "</div>"
      ],
      "text/plain": [
       "           id                                        description  \\\n",
       "0     ad_1917  PARIS 17ème. AVENUE NIEL *** Vidéo disponible ...   \n",
       "1     ad_1454  Appartement Paris 3 pièce(s) 53 m2. Stéphane P...   \n",
       "2     ad_1794  Vente Appartement 2 pièces de 31m² - 75018 Par...   \n",
       "3     ad_1519  A vendre, en exclusivité, dans le 11e arrondis...   \n",
       "4     ad_1779  Gambetta 2 pièce(s) 40 m2. Rue d'Annam, à quel...   \n",
       "...       ...                                                ...   \n",
       "1870   ad_741  Appartement familial - Nation. Le Groupe H&amp...   \n",
       "1871  ad_1600  Village de Passy - 5 pièces - 195,51 m². Villa...   \n",
       "1872  ad_1441  Appartement 2 pièces de 46m² | Rue Clisson | P...   \n",
       "1873   ad_380  Duplex 3 pièces avec terrasse - Pernety XVIème...   \n",
       "1874   ad_534  PARIS 18EME -AVE CLICHY-Idéal 1er achat. PARIS...   \n",
       "\n",
       "                                                 adress  \\\n",
       "0     Achat appartement 2 pièces 63 m²Paris 17e 7501...   \n",
       "1     Achat appartement 3 pièces 53 m²Paris 18e 7501...   \n",
       "2     Achat appartement 2 pièces 31 m²Paris 18e 7501...   \n",
       "3     Achat appartement 2 pièces 31 m²Paris 11e 7501...   \n",
       "4     Achat appartement 2 pièces 40 m²Paris 20e 7502...   \n",
       "...                                                 ...   \n",
       "1870  Achat appartement 6 pièces 168 m²Paris 12e 750...   \n",
       "1871  Achat appartement 5 pièces 200 m²Paris 16e 750...   \n",
       "1872  Achat appartement 2 pièces 46 m²Paris 13e 7501...   \n",
       "1873  Achat duplex 3 pièces 53 m²Paris 14e 75014 (Pe...   \n",
       "1874  Achat appartement 1 pièce 13 m²Paris 18e 75018...   \n",
       "\n",
       "                           date_pub               date_update        price  \\\n",
       "0            Publiée le 4 déc. 2021  Modifiée le 30 déc. 2021    640 000 €   \n",
       "1           Publiée le 16 déc. 2021  Modifiée le 16 déc. 2021    556 500 €   \n",
       "2            Publiée le 8 déc. 2021  Modifiée le 28 déc. 2021    305 000 €   \n",
       "3           Publiée le 15 déc. 2021  Modifiée le 29 déc. 2021    380 000 €   \n",
       "4           Publiée le 24 nov. 2021  Modifiée le 29 déc. 2021    368 000 €   \n",
       "...                             ...                       ...          ...   \n",
       "1870  Publiée il y a plus de 2 mois  Modifiée le 29 déc. 2021  1 697 000 €   \n",
       "1871        Publiée le 14 déc. 2021                       NaN  2 370 000 €   \n",
       "1872        Publiée le 16 déc. 2021                       NaN    441 000 €   \n",
       "1873  Publiée il y a plus de 2 mois  Modifiée le 18 déc. 2021    785 000 €   \n",
       "1874        Publiée le 24 nov. 2021  Modifiée le 18 déc. 2021    165 000 €   \n",
       "\n",
       "                                                    fee  \n",
       "0                     Honoraires à la charge du vendeur  \n",
       "1     Honoraires : 5,00% TTC inclus à la charge de l...  \n",
       "2                     Honoraires à la charge du vendeur  \n",
       "3     Honoraires : 4,40% TTC inclus à la charge de l...  \n",
       "4     Honoraires : 5,14% TTC inclus à la charge de l...  \n",
       "...                                                 ...  \n",
       "1870  Honoraires : 1,62% TTC inclus à la charge de l...  \n",
       "1871  Honoraires : 3,04% TTC inclus à la charge de l...  \n",
       "1872                  Honoraires à la charge du vendeur  \n",
       "1873  Honoraires : 4,67% TTC inclus à la charge de l...  \n",
       "1874                  Honoraires à la charge du vendeur  \n",
       "\n",
       "[1875 rows x 7 columns]"
      ]
     },
     "execution_count": 4,
     "metadata": {},
     "output_type": "execute_result"
    }
   ],
   "source": [
    "df = pd.read_csv ('data/ads.csv')\n",
    "df"
   ]
  },
  {
   "cell_type": "code",
   "execution_count": 5,
   "metadata": {},
   "outputs": [],
   "source": [
    "df_trans = pd.read_csv ('data/transports.csv')"
   ]
  },
  {
   "cell_type": "code",
   "execution_count": 6,
   "metadata": {},
   "outputs": [],
   "source": [
    "df_trans = df_trans.groupby(['ad_id','type']).size().unstack(level=1)"
   ]
  },
  {
   "cell_type": "code",
   "execution_count": 7,
   "metadata": {},
   "outputs": [],
   "source": [
    "df_trans.fillna(0, inplace=True)"
   ]
  },
  {
   "cell_type": "code",
   "execution_count": 8,
   "metadata": {},
   "outputs": [],
   "source": [
    "df = pd.merge(df, df_trans, right_index=True, left_on='id')"
   ]
  },
  {
   "cell_type": "code",
   "execution_count": 9,
   "metadata": {
    "_cell_guid": "fc7c7976-c62d-4114-be7c-3214c24f16a6",
    "_uuid": "016fe93b-85cb-4d3c-89ce-c533ce41cae9",
    "execution": {
     "iopub.execute_input": "2022-03-23T17:49:22.339813Z",
     "iopub.status.busy": "2022-03-23T17:49:22.339568Z",
     "iopub.status.idle": "2022-03-23T17:49:22.346401Z",
     "shell.execute_reply": "2022-03-23T17:49:22.345568Z",
     "shell.execute_reply.started": "2022-03-23T17:49:22.339783Z"
    },
    "jupyter": {
     "outputs_hidden": false
    }
   },
   "outputs": [
    {
     "data": {
      "text/plain": [
       "Index(['id', 'description', 'adress', 'date_pub', 'date_update', 'price',\n",
       "       'fee', 'bus', 'metro'],\n",
       "      dtype='object')"
      ]
     },
     "execution_count": 9,
     "metadata": {},
     "output_type": "execute_result"
    }
   ],
   "source": [
    "df.columns"
   ]
  },
  {
   "cell_type": "code",
   "execution_count": 10,
   "metadata": {
    "_cell_guid": "e924936b-f460-46fa-9ceb-c9958a9fe1cc",
    "_uuid": "e91dfc53-c025-441c-9407-a01a30ece874",
    "execution": {
     "iopub.execute_input": "2022-03-23T17:49:22.350168Z",
     "iopub.status.busy": "2022-03-23T17:49:22.349617Z",
     "iopub.status.idle": "2022-03-23T17:49:22.366195Z",
     "shell.execute_reply": "2022-03-23T17:49:22.364985Z",
     "shell.execute_reply.started": "2022-03-23T17:49:22.350121Z"
    },
    "jupyter": {
     "outputs_hidden": false
    }
   },
   "outputs": [],
   "source": [
    "df.drop(['date_pub', 'date_update', 'fee'], axis=1, inplace=True, errors='ignore')"
   ]
  },
  {
   "cell_type": "markdown",
   "metadata": {
    "_cell_guid": "7e9c055d-acb6-47e2-9b05-d9e9b352eb8b",
    "_uuid": "3ea00198-de50-42d8-9585-a41b4c5d20cd"
   },
   "source": [
    "**Dataset containe duplicate rows with unique id**"
   ]
  },
  {
   "cell_type": "code",
   "execution_count": 11,
   "metadata": {
    "_cell_guid": "ce6b39f7-7657-45d3-852b-4ee05119567d",
    "_uuid": "103c8e5f-81c0-4ce8-870f-b20ca9257532",
    "execution": {
     "iopub.execute_input": "2022-03-23T17:49:22.367808Z",
     "iopub.status.busy": "2022-03-23T17:49:22.367567Z",
     "iopub.status.idle": "2022-03-23T17:49:22.403100Z",
     "shell.execute_reply": "2022-03-23T17:49:22.402365Z",
     "shell.execute_reply.started": "2022-03-23T17:49:22.367780Z"
    },
    "jupyter": {
     "outputs_hidden": false
    }
   },
   "outputs": [
    {
     "data": {
      "text/html": [
       "<div>\n",
       "<style scoped>\n",
       "    .dataframe tbody tr th:only-of-type {\n",
       "        vertical-align: middle;\n",
       "    }\n",
       "\n",
       "    .dataframe tbody tr th {\n",
       "        vertical-align: top;\n",
       "    }\n",
       "\n",
       "    .dataframe thead th {\n",
       "        text-align: right;\n",
       "    }\n",
       "</style>\n",
       "<table border=\"1\" class=\"dataframe\">\n",
       "  <thead>\n",
       "    <tr style=\"text-align: right;\">\n",
       "      <th></th>\n",
       "      <th>bus</th>\n",
       "      <th>metro</th>\n",
       "    </tr>\n",
       "  </thead>\n",
       "  <tbody>\n",
       "    <tr>\n",
       "      <th>count</th>\n",
       "      <td>1398.000000</td>\n",
       "      <td>1398.000000</td>\n",
       "    </tr>\n",
       "    <tr>\n",
       "      <th>mean</th>\n",
       "      <td>7.635193</td>\n",
       "      <td>0.534335</td>\n",
       "    </tr>\n",
       "    <tr>\n",
       "      <th>std</th>\n",
       "      <td>3.409107</td>\n",
       "      <td>0.563665</td>\n",
       "    </tr>\n",
       "    <tr>\n",
       "      <th>min</th>\n",
       "      <td>1.000000</td>\n",
       "      <td>0.000000</td>\n",
       "    </tr>\n",
       "    <tr>\n",
       "      <th>25%</th>\n",
       "      <td>5.000000</td>\n",
       "      <td>0.000000</td>\n",
       "    </tr>\n",
       "    <tr>\n",
       "      <th>50%</th>\n",
       "      <td>7.000000</td>\n",
       "      <td>1.000000</td>\n",
       "    </tr>\n",
       "    <tr>\n",
       "      <th>75%</th>\n",
       "      <td>10.000000</td>\n",
       "      <td>1.000000</td>\n",
       "    </tr>\n",
       "    <tr>\n",
       "      <th>max</th>\n",
       "      <td>22.000000</td>\n",
       "      <td>3.000000</td>\n",
       "    </tr>\n",
       "  </tbody>\n",
       "</table>\n",
       "</div>"
      ],
      "text/plain": [
       "               bus        metro\n",
       "count  1398.000000  1398.000000\n",
       "mean      7.635193     0.534335\n",
       "std       3.409107     0.563665\n",
       "min       1.000000     0.000000\n",
       "25%       5.000000     0.000000\n",
       "50%       7.000000     1.000000\n",
       "75%      10.000000     1.000000\n",
       "max      22.000000     3.000000"
      ]
     },
     "execution_count": 11,
     "metadata": {},
     "output_type": "execute_result"
    }
   ],
   "source": [
    "df.describe()"
   ]
  },
  {
   "cell_type": "markdown",
   "metadata": {
    "_cell_guid": "503396da-a5d8-4ce3-a2d1-0b385eceea85",
    "_uuid": "98c722d2-aebb-4066-94bb-6b825b937c6d"
   },
   "source": [
    "**Finding and removing duplicate rows by adress because we can take address as id for each house**"
   ]
  },
  {
   "cell_type": "code",
   "execution_count": 12,
   "metadata": {
    "_cell_guid": "bf803416-1abe-41bc-9ba3-d5e3746786a0",
    "_uuid": "5499be01-e5e2-46b7-8e7a-6d928b681675",
    "execution": {
     "iopub.execute_input": "2022-03-23T17:49:22.404604Z",
     "iopub.status.busy": "2022-03-23T17:49:22.404099Z",
     "iopub.status.idle": "2022-03-23T17:49:22.486949Z",
     "shell.execute_reply": "2022-03-23T17:49:22.485971Z",
     "shell.execute_reply.started": "2022-03-23T17:49:22.404568Z"
    },
    "jupyter": {
     "outputs_hidden": false
    }
   },
   "outputs": [
    {
     "data": {
      "text/html": [
       "<div>\n",
       "<style scoped>\n",
       "    .dataframe tbody tr th:only-of-type {\n",
       "        vertical-align: middle;\n",
       "    }\n",
       "\n",
       "    .dataframe tbody tr th {\n",
       "        vertical-align: top;\n",
       "    }\n",
       "\n",
       "    .dataframe thead th {\n",
       "        text-align: right;\n",
       "    }\n",
       "</style>\n",
       "<table border=\"1\" class=\"dataframe\">\n",
       "  <thead>\n",
       "    <tr style=\"text-align: right;\">\n",
       "      <th></th>\n",
       "      <th>id</th>\n",
       "      <th>description</th>\n",
       "      <th>adress</th>\n",
       "      <th>price</th>\n",
       "      <th>bus</th>\n",
       "      <th>metro</th>\n",
       "    </tr>\n",
       "  </thead>\n",
       "  <tbody>\n",
       "    <tr>\n",
       "      <th>756</th>\n",
       "      <td>ad_1231</td>\n",
       "      <td>VILLAGE BASTILLE - Studette. Au cœur du Villag...</td>\n",
       "      <td>Achat appartement 1 pièce 10 m²Paris 11e 75011...</td>\n",
       "      <td>128 400 €</td>\n",
       "      <td>8.0</td>\n",
       "      <td>0.0</td>\n",
       "    </tr>\n",
       "    <tr>\n",
       "      <th>835</th>\n",
       "      <td>ad_1232</td>\n",
       "      <td>VILLAGE BASTILLE - Studette. Au cœur du Villag...</td>\n",
       "      <td>Achat appartement 1 pièce 10 m²Paris 11e 75011...</td>\n",
       "      <td>128 400 €</td>\n",
       "      <td>8.0</td>\n",
       "      <td>0.0</td>\n",
       "    </tr>\n",
       "    <tr>\n",
       "      <th>1218</th>\n",
       "      <td>ad_1233</td>\n",
       "      <td>VILLAGE BASTILLE - Studette. Au cœur du Villag...</td>\n",
       "      <td>Achat appartement 1 pièce 10 m²Paris 11e 75011...</td>\n",
       "      <td>128 400 €</td>\n",
       "      <td>8.0</td>\n",
       "      <td>0.0</td>\n",
       "    </tr>\n",
       "    <tr>\n",
       "      <th>234</th>\n",
       "      <td>ad_1646</td>\n",
       "      <td>Appartement. RUE DE MARIGNAN / CHAMPS-ELYSEE -...</td>\n",
       "      <td>Achat appartement 1 pièce 11 m²Paris 8e 75008 ...</td>\n",
       "      <td>160 000 €</td>\n",
       "      <td>10.0</td>\n",
       "      <td>1.0</td>\n",
       "    </tr>\n",
       "    <tr>\n",
       "      <th>249</th>\n",
       "      <td>ad_1647</td>\n",
       "      <td>Appartement. RUE DE MARIGNAN / CHAMPS-ELYSEE -...</td>\n",
       "      <td>Achat appartement 1 pièce 11 m²Paris 8e 75008 ...</td>\n",
       "      <td>160 000 €</td>\n",
       "      <td>10.0</td>\n",
       "      <td>1.0</td>\n",
       "    </tr>\n",
       "    <tr>\n",
       "      <th>...</th>\n",
       "      <td>...</td>\n",
       "      <td>...</td>\n",
       "      <td>...</td>\n",
       "      <td>...</td>\n",
       "      <td>...</td>\n",
       "      <td>...</td>\n",
       "    </tr>\n",
       "    <tr>\n",
       "      <th>270</th>\n",
       "      <td>ad_860</td>\n",
       "      <td>Mairie du XIVème: Charmant studio lumineux et ...</td>\n",
       "      <td>Achat studio 32 m²Paris 14e 75014 (Pernety)</td>\n",
       "      <td>383 000 €</td>\n",
       "      <td>4.0</td>\n",
       "      <td>1.0</td>\n",
       "    </tr>\n",
       "    <tr>\n",
       "      <th>1084</th>\n",
       "      <td>ad_862</td>\n",
       "      <td>Mairie du XIVème: Charmant studio lumineux et ...</td>\n",
       "      <td>Achat studio 32 m²Paris 14e 75014 (Pernety)</td>\n",
       "      <td>383 000 €</td>\n",
       "      <td>4.0</td>\n",
       "      <td>1.0</td>\n",
       "    </tr>\n",
       "    <tr>\n",
       "      <th>311</th>\n",
       "      <td>ad_1607</td>\n",
       "      <td>PARIS 2EME - MONTORGUEIL Studio cour arborée/p...</td>\n",
       "      <td>Achat studio 33 m²Paris 2e 75002 (Montorgueil ...</td>\n",
       "      <td>456 000 €</td>\n",
       "      <td>9.0</td>\n",
       "      <td>0.0</td>\n",
       "    </tr>\n",
       "    <tr>\n",
       "      <th>682</th>\n",
       "      <td>ad_1606</td>\n",
       "      <td>PARIS 2EME - MONTORGUEIL Studio cour arborée/p...</td>\n",
       "      <td>Achat studio 33 m²Paris 2e 75002 (Montorgueil ...</td>\n",
       "      <td>456 000 €</td>\n",
       "      <td>9.0</td>\n",
       "      <td>0.0</td>\n",
       "    </tr>\n",
       "    <tr>\n",
       "      <th>1356</th>\n",
       "      <td>ad_1608</td>\n",
       "      <td>PARIS 2EME - MONTORGUEIL Studio cour arborée/p...</td>\n",
       "      <td>Achat studio 33 m²Paris 2e 75002 (Montorgueil ...</td>\n",
       "      <td>456 000 €</td>\n",
       "      <td>9.0</td>\n",
       "      <td>0.0</td>\n",
       "    </tr>\n",
       "  </tbody>\n",
       "</table>\n",
       "<p>1396 rows × 6 columns</p>\n",
       "</div>"
      ],
      "text/plain": [
       "           id                                        description  \\\n",
       "756   ad_1231  VILLAGE BASTILLE - Studette. Au cœur du Villag...   \n",
       "835   ad_1232  VILLAGE BASTILLE - Studette. Au cœur du Villag...   \n",
       "1218  ad_1233  VILLAGE BASTILLE - Studette. Au cœur du Villag...   \n",
       "234   ad_1646  Appartement. RUE DE MARIGNAN / CHAMPS-ELYSEE -...   \n",
       "249   ad_1647  Appartement. RUE DE MARIGNAN / CHAMPS-ELYSEE -...   \n",
       "...       ...                                                ...   \n",
       "270    ad_860  Mairie du XIVème: Charmant studio lumineux et ...   \n",
       "1084   ad_862  Mairie du XIVème: Charmant studio lumineux et ...   \n",
       "311   ad_1607  PARIS 2EME - MONTORGUEIL Studio cour arborée/p...   \n",
       "682   ad_1606  PARIS 2EME - MONTORGUEIL Studio cour arborée/p...   \n",
       "1356  ad_1608  PARIS 2EME - MONTORGUEIL Studio cour arborée/p...   \n",
       "\n",
       "                                                 adress      price   bus  \\\n",
       "756   Achat appartement 1 pièce 10 m²Paris 11e 75011...  128 400 €   8.0   \n",
       "835   Achat appartement 1 pièce 10 m²Paris 11e 75011...  128 400 €   8.0   \n",
       "1218  Achat appartement 1 pièce 10 m²Paris 11e 75011...  128 400 €   8.0   \n",
       "234   Achat appartement 1 pièce 11 m²Paris 8e 75008 ...  160 000 €  10.0   \n",
       "249   Achat appartement 1 pièce 11 m²Paris 8e 75008 ...  160 000 €  10.0   \n",
       "...                                                 ...        ...   ...   \n",
       "270         Achat studio 32 m²Paris 14e 75014 (Pernety)  383 000 €   4.0   \n",
       "1084        Achat studio 32 m²Paris 14e 75014 (Pernety)  383 000 €   4.0   \n",
       "311   Achat studio 33 m²Paris 2e 75002 (Montorgueil ...  456 000 €   9.0   \n",
       "682   Achat studio 33 m²Paris 2e 75002 (Montorgueil ...  456 000 €   9.0   \n",
       "1356  Achat studio 33 m²Paris 2e 75002 (Montorgueil ...  456 000 €   9.0   \n",
       "\n",
       "      metro  \n",
       "756     0.0  \n",
       "835     0.0  \n",
       "1218    0.0  \n",
       "234     1.0  \n",
       "249     1.0  \n",
       "...     ...  \n",
       "270     1.0  \n",
       "1084    1.0  \n",
       "311     0.0  \n",
       "682     0.0  \n",
       "1356    0.0  \n",
       "\n",
       "[1396 rows x 6 columns]"
      ]
     },
     "execution_count": 12,
     "metadata": {},
     "output_type": "execute_result"
    }
   ],
   "source": [
    "pd.concat(g for _, g in df.groupby(\"adress\") if len(g) > 1)"
   ]
  },
  {
   "cell_type": "markdown",
   "metadata": {
    "_cell_guid": "5abffde9-6c33-4b59-a73e-9cc6bbdb4f11",
    "_uuid": "a941fdc0-3952-4b73-8405-e6595a65fac1"
   },
   "source": [
    "**removing duplicate rows by adress**"
   ]
  },
  {
   "cell_type": "code",
   "execution_count": 13,
   "metadata": {
    "_cell_guid": "fcc4ec43-2b5b-4c3e-b635-897a19f669f3",
    "_uuid": "8afec0ec-f159-407c-aba6-934655d0d004",
    "execution": {
     "iopub.execute_input": "2022-03-23T17:49:22.488451Z",
     "iopub.status.busy": "2022-03-23T17:49:22.488071Z",
     "iopub.status.idle": "2022-03-23T17:49:22.495559Z",
     "shell.execute_reply": "2022-03-23T17:49:22.494622Z",
     "shell.execute_reply.started": "2022-03-23T17:49:22.488411Z"
    },
    "jupyter": {
     "outputs_hidden": false
    }
   },
   "outputs": [],
   "source": [
    "df = df.drop_duplicates(subset=['adress'],  keep = 'last')"
   ]
  },
  {
   "cell_type": "markdown",
   "metadata": {
    "_cell_guid": "d52099bc-709e-4724-abdd-45609435906f",
    "_uuid": "071eedae-8362-429f-a919-6446b69d6649"
   },
   "source": [
    "still we can find description column"
   ]
  },
  {
   "cell_type": "code",
   "execution_count": 14,
   "metadata": {
    "_cell_guid": "213efb8d-4bd1-4ac2-9a3e-426ac951e436",
    "_uuid": "2317342f-2997-4e38-87d9-04bf0b78d67a",
    "execution": {
     "iopub.execute_input": "2022-03-23T17:49:22.497784Z",
     "iopub.status.busy": "2022-03-23T17:49:22.497162Z",
     "iopub.status.idle": "2022-03-23T17:49:22.522755Z",
     "shell.execute_reply": "2022-03-23T17:49:22.521874Z",
     "shell.execute_reply.started": "2022-03-23T17:49:22.497737Z"
    },
    "jupyter": {
     "outputs_hidden": false
    }
   },
   "outputs": [
    {
     "data": {
      "text/html": [
       "<div>\n",
       "<style scoped>\n",
       "    .dataframe tbody tr th:only-of-type {\n",
       "        vertical-align: middle;\n",
       "    }\n",
       "\n",
       "    .dataframe tbody tr th {\n",
       "        vertical-align: top;\n",
       "    }\n",
       "\n",
       "    .dataframe thead th {\n",
       "        text-align: right;\n",
       "    }\n",
       "</style>\n",
       "<table border=\"1\" class=\"dataframe\">\n",
       "  <thead>\n",
       "    <tr style=\"text-align: right;\">\n",
       "      <th></th>\n",
       "      <th>bus</th>\n",
       "      <th>metro</th>\n",
       "    </tr>\n",
       "  </thead>\n",
       "  <tbody>\n",
       "    <tr>\n",
       "      <th>count</th>\n",
       "      <td>433.000000</td>\n",
       "      <td>433.000000</td>\n",
       "    </tr>\n",
       "    <tr>\n",
       "      <th>mean</th>\n",
       "      <td>7.556582</td>\n",
       "      <td>0.551963</td>\n",
       "    </tr>\n",
       "    <tr>\n",
       "      <th>std</th>\n",
       "      <td>3.348183</td>\n",
       "      <td>0.571468</td>\n",
       "    </tr>\n",
       "    <tr>\n",
       "      <th>min</th>\n",
       "      <td>1.000000</td>\n",
       "      <td>0.000000</td>\n",
       "    </tr>\n",
       "    <tr>\n",
       "      <th>25%</th>\n",
       "      <td>5.000000</td>\n",
       "      <td>0.000000</td>\n",
       "    </tr>\n",
       "    <tr>\n",
       "      <th>50%</th>\n",
       "      <td>7.000000</td>\n",
       "      <td>1.000000</td>\n",
       "    </tr>\n",
       "    <tr>\n",
       "      <th>75%</th>\n",
       "      <td>10.000000</td>\n",
       "      <td>1.000000</td>\n",
       "    </tr>\n",
       "    <tr>\n",
       "      <th>max</th>\n",
       "      <td>22.000000</td>\n",
       "      <td>3.000000</td>\n",
       "    </tr>\n",
       "  </tbody>\n",
       "</table>\n",
       "</div>"
      ],
      "text/plain": [
       "              bus       metro\n",
       "count  433.000000  433.000000\n",
       "mean     7.556582    0.551963\n",
       "std      3.348183    0.571468\n",
       "min      1.000000    0.000000\n",
       "25%      5.000000    0.000000\n",
       "50%      7.000000    1.000000\n",
       "75%     10.000000    1.000000\n",
       "max     22.000000    3.000000"
      ]
     },
     "execution_count": 14,
     "metadata": {},
     "output_type": "execute_result"
    }
   ],
   "source": [
    "df.describe()"
   ]
  },
  {
   "cell_type": "code",
   "execution_count": 15,
   "metadata": {
    "_cell_guid": "7a8ff631-442c-4382-81d7-da4c194c6326",
    "_uuid": "f8b7ba60-cf7f-4c18-bf5e-c9a19c410dc5",
    "execution": {
     "iopub.execute_input": "2022-03-23T17:49:22.524602Z",
     "iopub.status.busy": "2022-03-23T17:49:22.524186Z",
     "iopub.status.idle": "2022-03-23T17:49:22.552089Z",
     "shell.execute_reply": "2022-03-23T17:49:22.551469Z",
     "shell.execute_reply.started": "2022-03-23T17:49:22.524559Z"
    },
    "jupyter": {
     "outputs_hidden": false
    }
   },
   "outputs": [
    {
     "data": {
      "text/html": [
       "<div>\n",
       "<style scoped>\n",
       "    .dataframe tbody tr th:only-of-type {\n",
       "        vertical-align: middle;\n",
       "    }\n",
       "\n",
       "    .dataframe tbody tr th {\n",
       "        vertical-align: top;\n",
       "    }\n",
       "\n",
       "    .dataframe thead th {\n",
       "        text-align: right;\n",
       "    }\n",
       "</style>\n",
       "<table border=\"1\" class=\"dataframe\">\n",
       "  <thead>\n",
       "    <tr style=\"text-align: right;\">\n",
       "      <th></th>\n",
       "      <th>id</th>\n",
       "      <th>description</th>\n",
       "      <th>adress</th>\n",
       "      <th>price</th>\n",
       "      <th>bus</th>\n",
       "      <th>metro</th>\n",
       "    </tr>\n",
       "  </thead>\n",
       "  <tbody>\n",
       "    <tr>\n",
       "      <th>667</th>\n",
       "      <td>ad_193</td>\n",
       "      <td>Appartement - 3 pièces - 40 m² - Paris 75018. ...</td>\n",
       "      <td>Achat appartement 3 pièces 40 m²Paris 18e 7501...</td>\n",
       "      <td>330 000 €</td>\n",
       "      <td>7.0</td>\n",
       "      <td>1.0</td>\n",
       "    </tr>\n",
       "    <tr>\n",
       "      <th>1342</th>\n",
       "      <td>ad_197</td>\n",
       "      <td>Appartement - 3 pièces - 40 m² - Paris 75018. ...</td>\n",
       "      <td>Achat appartement 2 pièces 40 m²Paris 18e 7501...</td>\n",
       "      <td>330 000 €</td>\n",
       "      <td>7.0</td>\n",
       "      <td>1.0</td>\n",
       "    </tr>\n",
       "    <tr>\n",
       "      <th>1719</th>\n",
       "      <td>ad_1625</td>\n",
       "      <td>PARIS 20 - 3 PIECES - 57m² - METRO TELEGRAPHE....</td>\n",
       "      <td>Achat appartement 3 pièces 56 m²Paris 20e 7502...</td>\n",
       "      <td>465 000 €</td>\n",
       "      <td>11.0</td>\n",
       "      <td>1.0</td>\n",
       "    </tr>\n",
       "    <tr>\n",
       "      <th>1779</th>\n",
       "      <td>ad_1617</td>\n",
       "      <td>PARIS 20 - 3 PIECES - 57m² - METRO TELEGRAPHE....</td>\n",
       "      <td>Achat appartement 3 pièces 56 m²Paris 19e 7501...</td>\n",
       "      <td>465 000 €</td>\n",
       "      <td>2.0</td>\n",
       "      <td>1.0</td>\n",
       "    </tr>\n",
       "  </tbody>\n",
       "</table>\n",
       "</div>"
      ],
      "text/plain": [
       "           id                                        description  \\\n",
       "667    ad_193  Appartement - 3 pièces - 40 m² - Paris 75018. ...   \n",
       "1342   ad_197  Appartement - 3 pièces - 40 m² - Paris 75018. ...   \n",
       "1719  ad_1625  PARIS 20 - 3 PIECES - 57m² - METRO TELEGRAPHE....   \n",
       "1779  ad_1617  PARIS 20 - 3 PIECES - 57m² - METRO TELEGRAPHE....   \n",
       "\n",
       "                                                 adress      price   bus  \\\n",
       "667   Achat appartement 3 pièces 40 m²Paris 18e 7501...  330 000 €   7.0   \n",
       "1342  Achat appartement 2 pièces 40 m²Paris 18e 7501...  330 000 €   7.0   \n",
       "1719  Achat appartement 3 pièces 56 m²Paris 20e 7502...  465 000 €  11.0   \n",
       "1779  Achat appartement 3 pièces 56 m²Paris 19e 7501...  465 000 €   2.0   \n",
       "\n",
       "      metro  \n",
       "667     1.0  \n",
       "1342    1.0  \n",
       "1719    1.0  \n",
       "1779    1.0  "
      ]
     },
     "execution_count": 15,
     "metadata": {},
     "output_type": "execute_result"
    }
   ],
   "source": [
    "pd.concat(g for _, g in df.groupby(\"description\") if len(g) > 1)"
   ]
  },
  {
   "cell_type": "code",
   "execution_count": 16,
   "metadata": {
    "_cell_guid": "812431a8-f631-4265-bf78-0c32d4162d6b",
    "_uuid": "90dfe1ef-fd88-424c-bf04-358f992f5eb9",
    "execution": {
     "iopub.execute_input": "2022-03-23T17:49:22.553972Z",
     "iopub.status.busy": "2022-03-23T17:49:22.553484Z",
     "iopub.status.idle": "2022-03-23T17:49:22.562194Z",
     "shell.execute_reply": "2022-03-23T17:49:22.561253Z",
     "shell.execute_reply.started": "2022-03-23T17:49:22.553928Z"
    },
    "jupyter": {
     "outputs_hidden": false
    }
   },
   "outputs": [
    {
     "data": {
      "text/plain": [
       "['Achat appartement 3\\xa0pièces 40\\xa0m²Paris 18e\\xa075018 (La Chapelle - Marx Dormoy)']"
      ]
     },
     "execution_count": 16,
     "metadata": {},
     "output_type": "execute_result"
    }
   ],
   "source": [
    "list(df.loc[df['id'] == \"ad_193\"][\"adress\"])"
   ]
  },
  {
   "cell_type": "code",
   "execution_count": 17,
   "metadata": {
    "_cell_guid": "fdeaf389-2e6d-4e47-90d1-858007514203",
    "_uuid": "4bcea959-377f-4c93-a288-f5d74294f63a",
    "execution": {
     "iopub.execute_input": "2022-03-23T17:49:22.564356Z",
     "iopub.status.busy": "2022-03-23T17:49:22.564054Z",
     "iopub.status.idle": "2022-03-23T17:49:22.576418Z",
     "shell.execute_reply": "2022-03-23T17:49:22.575410Z",
     "shell.execute_reply.started": "2022-03-23T17:49:22.564315Z"
    },
    "jupyter": {
     "outputs_hidden": false
    }
   },
   "outputs": [],
   "source": [
    "df['district'] = df['adress'].str.extract('(\\d+)e', expand=False).str.strip()"
   ]
  },
  {
   "cell_type": "code",
   "execution_count": 18,
   "metadata": {
    "_cell_guid": "cce43131-ca85-4abd-b6bd-e6e6ab1074d5",
    "_uuid": "940a1aab-ab65-404e-96d9-83e6438b299f",
    "execution": {
     "iopub.execute_input": "2022-03-23T17:49:22.578607Z",
     "iopub.status.busy": "2022-03-23T17:49:22.578110Z",
     "iopub.status.idle": "2022-03-23T17:49:22.588723Z",
     "shell.execute_reply": "2022-03-23T17:49:22.587881Z",
     "shell.execute_reply.started": "2022-03-23T17:49:22.578564Z"
    },
    "jupyter": {
     "outputs_hidden": false
    }
   },
   "outputs": [],
   "source": [
    "df['volume'] = df['adress'].str.extract('(\\d+).?m²', expand=False).str.strip()"
   ]
  },
  {
   "cell_type": "code",
   "execution_count": 19,
   "metadata": {
    "_cell_guid": "29909e5d-a624-42bc-9675-ae036bb9a519",
    "_uuid": "61e4b8b2-fd7e-4634-85bf-d03aabc5191e",
    "execution": {
     "iopub.execute_input": "2022-03-23T17:49:22.594302Z",
     "iopub.status.busy": "2022-03-23T17:49:22.594080Z",
     "iopub.status.idle": "2022-03-23T17:49:22.603424Z",
     "shell.execute_reply": "2022-03-23T17:49:22.602720Z",
     "shell.execute_reply.started": "2022-03-23T17:49:22.594274Z"
    },
    "jupyter": {
     "outputs_hidden": false
    }
   },
   "outputs": [],
   "source": [
    "df['rooms'] = df['adress'].str.extract('(\\d+).?[p|P][i|I]', expand=False).str.strip()"
   ]
  },
  {
   "cell_type": "code",
   "execution_count": 20,
   "metadata": {
    "_cell_guid": "613c80ed-a6d9-44a1-a834-8d053ebac01e",
    "_uuid": "9965b118-70b1-4f3e-8291-e6a2d974cdb1",
    "execution": {
     "iopub.execute_input": "2022-03-23T17:49:22.605088Z",
     "iopub.status.busy": "2022-03-23T17:49:22.604526Z",
     "iopub.status.idle": "2022-03-23T17:49:22.651907Z",
     "shell.execute_reply": "2022-03-23T17:49:22.651256Z",
     "shell.execute_reply.started": "2022-03-23T17:49:22.605027Z"
    },
    "jupyter": {
     "outputs_hidden": false
    }
   },
   "outputs": [],
   "source": [
    "df.loc[df['description'].str.contains('(?i)STUDIO') & df['rooms'].isna(), 'rooms'] = 1"
   ]
  },
  {
   "cell_type": "code",
   "execution_count": 21,
   "metadata": {
    "_cell_guid": "aab34a96-6eb6-4e19-8005-55e21bd4fa93",
    "_uuid": "db2821b6-b782-4f5a-9614-defce68022ee",
    "execution": {
     "iopub.execute_input": "2022-03-23T17:49:22.653421Z",
     "iopub.status.busy": "2022-03-23T17:49:22.653190Z",
     "iopub.status.idle": "2022-03-23T17:49:22.661384Z",
     "shell.execute_reply": "2022-03-23T17:49:22.660754Z",
     "shell.execute_reply.started": "2022-03-23T17:49:22.653393Z"
    },
    "jupyter": {
     "outputs_hidden": false
    }
   },
   "outputs": [],
   "source": [
    "df['price'] = df['price'].str.replace(u'\\xa0', '').str.replace('€', '').astype(int)"
   ]
  },
  {
   "cell_type": "code",
   "execution_count": 22,
   "metadata": {
    "_cell_guid": "213fae8b-ec41-47a3-8109-4f1896c7f0d4",
    "_uuid": "9417513c-d829-481f-94d4-c42666b37953",
    "execution": {
     "iopub.execute_input": "2022-03-23T17:49:22.663037Z",
     "iopub.status.busy": "2022-03-23T17:49:22.662650Z",
     "iopub.status.idle": "2022-03-23T17:49:22.687121Z",
     "shell.execute_reply": "2022-03-23T17:49:22.686245Z",
     "shell.execute_reply.started": "2022-03-23T17:49:22.662994Z"
    },
    "jupyter": {
     "outputs_hidden": false
    }
   },
   "outputs": [
    {
     "data": {
      "text/html": [
       "<div>\n",
       "<style scoped>\n",
       "    .dataframe tbody tr th:only-of-type {\n",
       "        vertical-align: middle;\n",
       "    }\n",
       "\n",
       "    .dataframe tbody tr th {\n",
       "        vertical-align: top;\n",
       "    }\n",
       "\n",
       "    .dataframe thead th {\n",
       "        text-align: right;\n",
       "    }\n",
       "</style>\n",
       "<table border=\"1\" class=\"dataframe\">\n",
       "  <thead>\n",
       "    <tr style=\"text-align: right;\">\n",
       "      <th></th>\n",
       "      <th>id</th>\n",
       "      <th>description</th>\n",
       "      <th>adress</th>\n",
       "      <th>price</th>\n",
       "      <th>bus</th>\n",
       "      <th>metro</th>\n",
       "      <th>district</th>\n",
       "      <th>volume</th>\n",
       "      <th>rooms</th>\n",
       "    </tr>\n",
       "  </thead>\n",
       "  <tbody>\n",
       "    <tr>\n",
       "      <th>1606</th>\n",
       "      <td>ad_2104</td>\n",
       "      <td>3 PIECES - TERRASSE DE 16M2 - NOUVEAU CHAPELLE...</td>\n",
       "      <td>Achat appartement 3 piècesParis 18e 75018 (Por...</td>\n",
       "      <td>500000</td>\n",
       "      <td>12.0</td>\n",
       "      <td>1.0</td>\n",
       "      <td>18</td>\n",
       "      <td>NaN</td>\n",
       "      <td>3</td>\n",
       "    </tr>\n",
       "    <tr>\n",
       "      <th>1621</th>\n",
       "      <td>ad_1845</td>\n",
       "      <td>Appartement Paris 3 pièce(s) - 58 m2 - Rue Vit...</td>\n",
       "      <td>Achat appartement 3 pièces 59 m²PARIS 75020 (P...</td>\n",
       "      <td>560000</td>\n",
       "      <td>7.0</td>\n",
       "      <td>0.0</td>\n",
       "      <td>NaN</td>\n",
       "      <td>59</td>\n",
       "      <td>3</td>\n",
       "    </tr>\n",
       "  </tbody>\n",
       "</table>\n",
       "</div>"
      ],
      "text/plain": [
       "           id                                        description  \\\n",
       "1606  ad_2104  3 PIECES - TERRASSE DE 16M2 - NOUVEAU CHAPELLE...   \n",
       "1621  ad_1845  Appartement Paris 3 pièce(s) - 58 m2 - Rue Vit...   \n",
       "\n",
       "                                                 adress   price   bus  metro  \\\n",
       "1606  Achat appartement 3 piècesParis 18e 75018 (Por...  500000  12.0    1.0   \n",
       "1621  Achat appartement 3 pièces 59 m²PARIS 75020 (P...  560000   7.0    0.0   \n",
       "\n",
       "     district volume rooms  \n",
       "1606       18    NaN     3  \n",
       "1621      NaN     59     3  "
      ]
     },
     "execution_count": 22,
     "metadata": {},
     "output_type": "execute_result"
    }
   ],
   "source": [
    "df[df['district'].isna() | df['volume'].isna() | df['rooms'].isna()]"
   ]
  },
  {
   "cell_type": "code",
   "execution_count": 23,
   "metadata": {
    "_cell_guid": "70463068-cea1-425a-be65-68a7d5a6d37a",
    "_uuid": "1b9a9e20-a3c4-438f-a7fd-8a5ea978c420",
    "execution": {
     "iopub.execute_input": "2022-03-23T17:49:22.688971Z",
     "iopub.status.busy": "2022-03-23T17:49:22.688420Z",
     "iopub.status.idle": "2022-03-23T17:49:22.695384Z",
     "shell.execute_reply": "2022-03-23T17:49:22.694747Z",
     "shell.execute_reply.started": "2022-03-23T17:49:22.688933Z"
    },
    "jupyter": {
     "outputs_hidden": false
    }
   },
   "outputs": [],
   "source": [
    "df.loc[1606, 'volume'] = 61\n",
    "df.loc[1606, 'district'] = 18"
   ]
  },
  {
   "cell_type": "code",
   "execution_count": 24,
   "metadata": {
    "_cell_guid": "3d01ff6d-f20d-419c-b075-fb01061d60ab",
    "_uuid": "4dea69c9-4dcd-4c0f-b09f-46ead7a5b6f5",
    "execution": {
     "iopub.execute_input": "2022-03-23T17:49:22.697344Z",
     "iopub.status.busy": "2022-03-23T17:49:22.696661Z",
     "iopub.status.idle": "2022-03-23T17:49:22.717702Z",
     "shell.execute_reply": "2022-03-23T17:49:22.716734Z",
     "shell.execute_reply.started": "2022-03-23T17:49:22.697312Z"
    },
    "jupyter": {
     "outputs_hidden": false
    }
   },
   "outputs": [
    {
     "data": {
      "text/html": [
       "<div>\n",
       "<style scoped>\n",
       "    .dataframe tbody tr th:only-of-type {\n",
       "        vertical-align: middle;\n",
       "    }\n",
       "\n",
       "    .dataframe tbody tr th {\n",
       "        vertical-align: top;\n",
       "    }\n",
       "\n",
       "    .dataframe thead th {\n",
       "        text-align: right;\n",
       "    }\n",
       "</style>\n",
       "<table border=\"1\" class=\"dataframe\">\n",
       "  <thead>\n",
       "    <tr style=\"text-align: right;\">\n",
       "      <th></th>\n",
       "      <th>id</th>\n",
       "      <th>description</th>\n",
       "      <th>adress</th>\n",
       "      <th>price</th>\n",
       "      <th>bus</th>\n",
       "      <th>metro</th>\n",
       "      <th>district</th>\n",
       "      <th>volume</th>\n",
       "      <th>rooms</th>\n",
       "    </tr>\n",
       "  </thead>\n",
       "  <tbody>\n",
       "    <tr>\n",
       "      <th>1621</th>\n",
       "      <td>ad_1845</td>\n",
       "      <td>Appartement Paris 3 pièce(s) - 58 m2 - Rue Vit...</td>\n",
       "      <td>Achat appartement 3 pièces 59 m²PARIS 75020 (P...</td>\n",
       "      <td>560000</td>\n",
       "      <td>7.0</td>\n",
       "      <td>0.0</td>\n",
       "      <td>NaN</td>\n",
       "      <td>59</td>\n",
       "      <td>3</td>\n",
       "    </tr>\n",
       "  </tbody>\n",
       "</table>\n",
       "</div>"
      ],
      "text/plain": [
       "           id                                        description  \\\n",
       "1621  ad_1845  Appartement Paris 3 pièce(s) - 58 m2 - Rue Vit...   \n",
       "\n",
       "                                                 adress   price  bus  metro  \\\n",
       "1621  Achat appartement 3 pièces 59 m²PARIS 75020 (P...  560000  7.0    0.0   \n",
       "\n",
       "     district volume rooms  \n",
       "1621      NaN     59     3  "
      ]
     },
     "execution_count": 24,
     "metadata": {},
     "output_type": "execute_result"
    }
   ],
   "source": [
    "df[df['district'].isna() | df['volume'].isna() | df['rooms'].isna()]"
   ]
  },
  {
   "cell_type": "code",
   "execution_count": 25,
   "metadata": {
    "_cell_guid": "14c9ba51-67be-4e6e-8cee-f658f2216803",
    "_uuid": "7a9940c0-d3e1-44ac-a709-ae10fff90004",
    "execution": {
     "iopub.execute_input": "2022-03-23T17:49:22.719229Z",
     "iopub.status.busy": "2022-03-23T17:49:22.718980Z",
     "iopub.status.idle": "2022-03-23T17:49:22.722846Z",
     "shell.execute_reply": "2022-03-23T17:49:22.721992Z",
     "shell.execute_reply.started": "2022-03-23T17:49:22.719201Z"
    },
    "jupyter": {
     "outputs_hidden": false
    }
   },
   "outputs": [],
   "source": [
    "#list(df.loc[df['id'] == \"ad_2104\"][\"adress\"])"
   ]
  },
  {
   "cell_type": "code",
   "execution_count": 26,
   "metadata": {
    "_cell_guid": "d29b89e0-0357-451b-a641-8b3d391f8f66",
    "_uuid": "59ecd1de-96c5-413b-8498-418af7b54f22",
    "execution": {
     "iopub.execute_input": "2022-03-23T17:49:22.724326Z",
     "iopub.status.busy": "2022-03-23T17:49:22.723992Z",
     "iopub.status.idle": "2022-03-23T17:49:22.746536Z",
     "shell.execute_reply": "2022-03-23T17:49:22.745440Z",
     "shell.execute_reply.started": "2022-03-23T17:49:22.724297Z"
    },
    "jupyter": {
     "outputs_hidden": false
    }
   },
   "outputs": [],
   "source": [
    "df[[\"price\", \"district\", \"volume\", \"rooms\"]] = df[[\"price\", \"district\", \"volume\", \"rooms\"]].apply(pd.to_numeric)"
   ]
  },
  {
   "cell_type": "code",
   "execution_count": 27,
   "metadata": {
    "_cell_guid": "cbfd5f9e-dca5-40b8-8f71-0d29b18a3c3d",
    "_uuid": "5081bf60-8e36-4012-a339-4c66d355a152",
    "execution": {
     "iopub.execute_input": "2022-03-23T17:49:22.748371Z",
     "iopub.status.busy": "2022-03-23T17:49:22.748044Z",
     "iopub.status.idle": "2022-03-23T17:49:22.755560Z",
     "shell.execute_reply": "2022-03-23T17:49:22.754842Z",
     "shell.execute_reply.started": "2022-03-23T17:49:22.748328Z"
    },
    "jupyter": {
     "outputs_hidden": false
    }
   },
   "outputs": [],
   "source": [
    "df.drop(['description', 'adress'], axis=1, inplace=True, errors='ignore')"
   ]
  },
  {
   "cell_type": "code",
   "execution_count": 28,
   "metadata": {
    "_cell_guid": "cdce5c6c-a6b7-41a5-ac73-56ded481e4c1",
    "_uuid": "063ef6a4-7a20-4c05-8479-f2bb33d97dfb",
    "execution": {
     "iopub.execute_input": "2022-03-23T17:49:22.757238Z",
     "iopub.status.busy": "2022-03-23T17:49:22.756470Z",
     "iopub.status.idle": "2022-03-23T17:49:22.779745Z",
     "shell.execute_reply": "2022-03-23T17:49:22.778894Z",
     "shell.execute_reply.started": "2022-03-23T17:49:22.757198Z"
    },
    "jupyter": {
     "outputs_hidden": false
    },
    "scrolled": true
   },
   "outputs": [
    {
     "data": {
      "text/html": [
       "<div>\n",
       "<style scoped>\n",
       "    .dataframe tbody tr th:only-of-type {\n",
       "        vertical-align: middle;\n",
       "    }\n",
       "\n",
       "    .dataframe tbody tr th {\n",
       "        vertical-align: top;\n",
       "    }\n",
       "\n",
       "    .dataframe thead th {\n",
       "        text-align: right;\n",
       "    }\n",
       "</style>\n",
       "<table border=\"1\" class=\"dataframe\">\n",
       "  <thead>\n",
       "    <tr style=\"text-align: right;\">\n",
       "      <th></th>\n",
       "      <th>id</th>\n",
       "      <th>price</th>\n",
       "      <th>bus</th>\n",
       "      <th>metro</th>\n",
       "      <th>district</th>\n",
       "      <th>volume</th>\n",
       "      <th>rooms</th>\n",
       "    </tr>\n",
       "  </thead>\n",
       "  <tbody>\n",
       "    <tr>\n",
       "      <th>154</th>\n",
       "      <td>ad_965</td>\n",
       "      <td>599000</td>\n",
       "      <td>7.0</td>\n",
       "      <td>1.0</td>\n",
       "      <td>18.0</td>\n",
       "      <td>62</td>\n",
       "      <td>3</td>\n",
       "    </tr>\n",
       "    <tr>\n",
       "      <th>302</th>\n",
       "      <td>ad_1427</td>\n",
       "      <td>650000</td>\n",
       "      <td>11.0</td>\n",
       "      <td>1.0</td>\n",
       "      <td>15.0</td>\n",
       "      <td>78</td>\n",
       "      <td>3</td>\n",
       "    </tr>\n",
       "    <tr>\n",
       "      <th>315</th>\n",
       "      <td>ad_869</td>\n",
       "      <td>250000</td>\n",
       "      <td>4.0</td>\n",
       "      <td>1.0</td>\n",
       "      <td>14.0</td>\n",
       "      <td>23</td>\n",
       "      <td>2</td>\n",
       "    </tr>\n",
       "    <tr>\n",
       "      <th>345</th>\n",
       "      <td>ad_420</td>\n",
       "      <td>295000</td>\n",
       "      <td>9.0</td>\n",
       "      <td>1.0</td>\n",
       "      <td>18.0</td>\n",
       "      <td>31</td>\n",
       "      <td>2</td>\n",
       "    </tr>\n",
       "    <tr>\n",
       "      <th>358</th>\n",
       "      <td>ad_1593</td>\n",
       "      <td>695000</td>\n",
       "      <td>11.0</td>\n",
       "      <td>1.0</td>\n",
       "      <td>15.0</td>\n",
       "      <td>60</td>\n",
       "      <td>3</td>\n",
       "    </tr>\n",
       "    <tr>\n",
       "      <th>...</th>\n",
       "      <td>...</td>\n",
       "      <td>...</td>\n",
       "      <td>...</td>\n",
       "      <td>...</td>\n",
       "      <td>...</td>\n",
       "      <td>...</td>\n",
       "      <td>...</td>\n",
       "    </tr>\n",
       "    <tr>\n",
       "      <th>1868</th>\n",
       "      <td>ad_412</td>\n",
       "      <td>520000</td>\n",
       "      <td>7.0</td>\n",
       "      <td>1.0</td>\n",
       "      <td>11.0</td>\n",
       "      <td>49</td>\n",
       "      <td>2</td>\n",
       "    </tr>\n",
       "    <tr>\n",
       "      <th>1869</th>\n",
       "      <td>ad_767</td>\n",
       "      <td>850000</td>\n",
       "      <td>7.0</td>\n",
       "      <td>0.0</td>\n",
       "      <td>11.0</td>\n",
       "      <td>80</td>\n",
       "      <td>2</td>\n",
       "    </tr>\n",
       "    <tr>\n",
       "      <th>1872</th>\n",
       "      <td>ad_1441</td>\n",
       "      <td>441000</td>\n",
       "      <td>6.0</td>\n",
       "      <td>0.0</td>\n",
       "      <td>13.0</td>\n",
       "      <td>46</td>\n",
       "      <td>2</td>\n",
       "    </tr>\n",
       "    <tr>\n",
       "      <th>1873</th>\n",
       "      <td>ad_380</td>\n",
       "      <td>785000</td>\n",
       "      <td>4.0</td>\n",
       "      <td>1.0</td>\n",
       "      <td>14.0</td>\n",
       "      <td>53</td>\n",
       "      <td>3</td>\n",
       "    </tr>\n",
       "    <tr>\n",
       "      <th>1874</th>\n",
       "      <td>ad_534</td>\n",
       "      <td>165000</td>\n",
       "      <td>9.0</td>\n",
       "      <td>1.0</td>\n",
       "      <td>18.0</td>\n",
       "      <td>13</td>\n",
       "      <td>1</td>\n",
       "    </tr>\n",
       "  </tbody>\n",
       "</table>\n",
       "<p>433 rows × 7 columns</p>\n",
       "</div>"
      ],
      "text/plain": [
       "           id   price   bus  metro  district  volume  rooms\n",
       "154    ad_965  599000   7.0    1.0      18.0      62      3\n",
       "302   ad_1427  650000  11.0    1.0      15.0      78      3\n",
       "315    ad_869  250000   4.0    1.0      14.0      23      2\n",
       "345    ad_420  295000   9.0    1.0      18.0      31      2\n",
       "358   ad_1593  695000  11.0    1.0      15.0      60      3\n",
       "...       ...     ...   ...    ...       ...     ...    ...\n",
       "1868   ad_412  520000   7.0    1.0      11.0      49      2\n",
       "1869   ad_767  850000   7.0    0.0      11.0      80      2\n",
       "1872  ad_1441  441000   6.0    0.0      13.0      46      2\n",
       "1873   ad_380  785000   4.0    1.0      14.0      53      3\n",
       "1874   ad_534  165000   9.0    1.0      18.0      13      1\n",
       "\n",
       "[433 rows x 7 columns]"
      ]
     },
     "execution_count": 28,
     "metadata": {},
     "output_type": "execute_result"
    }
   ],
   "source": [
    "df"
   ]
  },
  {
   "cell_type": "code",
   "execution_count": 29,
   "metadata": {},
   "outputs": [
    {
     "data": {
      "text/plain": [
       "(433, 7)"
      ]
     },
     "execution_count": 29,
     "metadata": {},
     "output_type": "execute_result"
    }
   ],
   "source": [
    "df.shape"
   ]
  },
  {
   "cell_type": "code",
   "execution_count": 30,
   "metadata": {
    "_cell_guid": "bf5b837f-5071-49b3-a6ab-ff1e7f1e6282",
    "_uuid": "e38e836d-5a3e-4cd4-9b35-c91da7314366",
    "execution": {
     "iopub.execute_input": "2022-03-23T17:49:22.781224Z",
     "iopub.status.busy": "2022-03-23T17:49:22.780981Z",
     "iopub.status.idle": "2022-03-23T17:49:23.033083Z",
     "shell.execute_reply": "2022-03-23T17:49:23.032178Z",
     "shell.execute_reply.started": "2022-03-23T17:49:22.781195Z"
    },
    "jupyter": {
     "outputs_hidden": false
    }
   },
   "outputs": [
    {
     "data": {
      "text/plain": [
       "<AxesSubplot:>"
      ]
     },
     "execution_count": 30,
     "metadata": {},
     "output_type": "execute_result"
    },
    {
     "data": {
      "image/png": "[encoded data removed]",
      "text/plain": [
       "<Figure size 432x288 with 1 Axes>"
      ]
     },
     "metadata": {
      "needs_background": "light"
     },
     "output_type": "display_data"
    }
   ],
   "source": [
    "df[\"rooms\"].plot()"
   ]
  },
  {
   "cell_type": "code",
   "execution_count": 31,
   "metadata": {
    "_cell_guid": "8ad6cd9e-f1a2-444f-9018-7080951b1f4c",
    "_uuid": "a8b9c763-4886-44c0-a73f-c3b59db0398d",
    "execution": {
     "iopub.execute_input": "2022-03-23T17:49:23.034970Z",
     "iopub.status.busy": "2022-03-23T17:49:23.034645Z",
     "iopub.status.idle": "2022-03-23T17:49:23.242350Z",
     "shell.execute_reply": "2022-03-23T17:49:23.241561Z",
     "shell.execute_reply.started": "2022-03-23T17:49:23.034928Z"
    },
    "jupyter": {
     "outputs_hidden": false
    }
   },
   "outputs": [
    {
     "data": {
      "text/plain": [
       "<AxesSubplot:>"
      ]
     },
     "execution_count": 31,
     "metadata": {},
     "output_type": "execute_result"
    },
    {
     "data": {
      "image/png": "[encoded data removed]",
      "text/plain": [
       "<Figure size 432x288 with 1 Axes>"
      ]
     },
     "metadata": {
      "needs_background": "light"
     },
     "output_type": "display_data"
    }
   ],
   "source": [
    "df[\"price\"].plot()"
   ]
  },
  {
   "cell_type": "code",
   "execution_count": 32,
   "metadata": {
    "_cell_guid": "a61bf7b2-8a2a-4685-9a5f-af9bd0140740",
    "_uuid": "d10fa515-ae73-4b8a-a07e-abfa8577c765",
    "execution": {
     "iopub.execute_input": "2022-03-23T17:49:23.246178Z",
     "iopub.status.busy": "2022-03-23T17:49:23.245385Z",
     "iopub.status.idle": "2022-03-23T17:49:23.413065Z",
     "shell.execute_reply": "2022-03-23T17:49:23.412172Z",
     "shell.execute_reply.started": "2022-03-23T17:49:23.246132Z"
    },
    "jupyter": {
     "outputs_hidden": false
    }
   },
   "outputs": [
    {
     "data": {
      "text/plain": [
       "<AxesSubplot:>"
      ]
     },
     "execution_count": 32,
     "metadata": {},
     "output_type": "execute_result"
    },
    {
     "data": {
      "image/png": "[encoded data removed]",
      "text/plain": [
       "<Figure size 432x288 with 1 Axes>"
      ]
     },
     "metadata": {
      "needs_background": "light"
     },
     "output_type": "display_data"
    }
   ],
   "source": [
    "df[\"volume\"].plot()"
   ]
  },
  {
   "cell_type": "code",
   "execution_count": 33,
   "metadata": {
    "_cell_guid": "e51fb344-d78c-4ed1-9cab-47503d6e30a1",
    "_uuid": "d61a9d5d-30cf-4f9f-9a88-3d09dd85a8e3",
    "execution": {
     "iopub.execute_input": "2022-03-23T17:49:23.415031Z",
     "iopub.status.busy": "2022-03-23T17:49:23.414466Z",
     "iopub.status.idle": "2022-03-23T17:49:23.577287Z",
     "shell.execute_reply": "2022-03-23T17:49:23.576374Z",
     "shell.execute_reply.started": "2022-03-23T17:49:23.414992Z"
    },
    "jupyter": {
     "outputs_hidden": false
    }
   },
   "outputs": [
    {
     "data": {
      "text/plain": [
       "<AxesSubplot:>"
      ]
     },
     "execution_count": 33,
     "metadata": {},
     "output_type": "execute_result"
    },
    {
     "data": {
      "image/png": "[encoded data removed]",
      "text/plain": [
       "<Figure size 432x288 with 1 Axes>"
      ]
     },
     "metadata": {
      "needs_background": "light"
     },
     "output_type": "display_data"
    }
   ],
   "source": [
    "df[\"rooms\"].plot()"
   ]
  },
  {
   "cell_type": "code",
   "execution_count": 34,
   "metadata": {
    "_cell_guid": "3e2f74ef-ef34-47d3-9526-5790835ab52b",
    "_uuid": "26f208b9-ef9e-4911-83ab-aed29a51f992",
    "execution": {
     "iopub.execute_input": "2022-03-23T17:49:23.578761Z",
     "iopub.status.busy": "2022-03-23T17:49:23.578519Z",
     "iopub.status.idle": "2022-03-23T17:49:23.823191Z",
     "shell.execute_reply": "2022-03-23T17:49:23.822332Z",
     "shell.execute_reply.started": "2022-03-23T17:49:23.578731Z"
    },
    "jupyter": {
     "outputs_hidden": false
    }
   },
   "outputs": [
    {
     "data": {
      "text/plain": [
       "<AxesSubplot:>"
      ]
     },
     "execution_count": 34,
     "metadata": {},
     "output_type": "execute_result"
    },
    {
     "data": {
      "image/png": "[encoded data removed]",
      "text/plain": [
       "<Figure size 432x288 with 1 Axes>"
      ]
     },
     "metadata": {
      "needs_background": "light"
     },
     "output_type": "display_data"
    }
   ],
   "source": [
    "pd.value_counts(df['district']).plot.bar()"
   ]
  },
  {
   "cell_type": "code",
   "execution_count": 35,
   "metadata": {
    "_cell_guid": "365a1f4f-4a43-4615-aed7-c3d27798608e",
    "_uuid": "6821a8b5-2b36-4d04-a9d0-bfcab6c60cfc",
    "execution": {
     "iopub.execute_input": "2022-03-23T17:49:23.825713Z",
     "iopub.status.busy": "2022-03-23T17:49:23.824522Z",
     "iopub.status.idle": "2022-03-23T17:49:23.834617Z",
     "shell.execute_reply": "2022-03-23T17:49:23.833716Z",
     "shell.execute_reply.started": "2022-03-23T17:49:23.825674Z"
    },
    "jupyter": {
     "outputs_hidden": false
    }
   },
   "outputs": [],
   "source": [
    "dist_group = df.groupby(['district']).mean()"
   ]
  },
  {
   "cell_type": "code",
   "execution_count": 36,
   "metadata": {
    "_cell_guid": "41938ded-3bc2-477c-a07c-dacb9a6618c0",
    "_uuid": "753f9805-2031-4b8a-b84a-00a2d0fc72a4",
    "execution": {
     "iopub.execute_input": "2022-03-23T17:49:23.836147Z",
     "iopub.status.busy": "2022-03-23T17:49:23.835932Z",
     "iopub.status.idle": "2022-03-23T17:49:24.161534Z",
     "shell.execute_reply": "2022-03-23T17:49:24.160448Z",
     "shell.execute_reply.started": "2022-03-23T17:49:23.836121Z"
    },
    "jupyter": {
     "outputs_hidden": false
    }
   },
   "outputs": [
    {
     "data": {
      "text/plain": [
       "<AxesSubplot:xlabel='district'>"
      ]
     },
     "execution_count": 36,
     "metadata": {},
     "output_type": "execute_result"
    },
    {
     "data": {
      "image/png": "[encoded data removed]",
      "text/plain": [
       "<Figure size 432x288 with 1 Axes>"
      ]
     },
     "metadata": {
      "needs_background": "light"
     },
     "output_type": "display_data"
    }
   ],
   "source": [
    "dist_group.plot.bar(y=[\"price\"])"
   ]
  },
  {
   "cell_type": "code",
   "execution_count": 37,
   "metadata": {
    "_cell_guid": "5b639f64-82d5-4e07-b261-94ec3a71f0ff",
    "_uuid": "8f8a20c9-32b8-48d6-81a0-61f1a25d1545",
    "execution": {
     "iopub.execute_input": "2022-03-23T17:49:24.162987Z",
     "iopub.status.busy": "2022-03-23T17:49:24.162753Z",
     "iopub.status.idle": "2022-03-23T17:49:24.601715Z",
     "shell.execute_reply": "2022-03-23T17:49:24.601077Z",
     "shell.execute_reply.started": "2022-03-23T17:49:24.162957Z"
    },
    "jupyter": {
     "outputs_hidden": false
    }
   },
   "outputs": [
    {
     "data": {
      "text/plain": [
       "<AxesSubplot:xlabel='district'>"
      ]
     },
     "execution_count": 37,
     "metadata": {},
     "output_type": "execute_result"
    },
    {
     "data": {
      "image/png": "[encoded data removed]",
      "text/plain": [
       "<Figure size 432x288 with 1 Axes>"
      ]
     },
     "metadata": {
      "needs_background": "light"
     },
     "output_type": "display_data"
    }
   ],
   "source": [
    "dist_group.plot.bar(y=[\"rooms\"])"
   ]
  },
  {
   "cell_type": "code",
   "execution_count": 38,
   "metadata": {
    "_cell_guid": "64ce1f66-e6b4-40f1-9c24-bf94b674cd74",
    "_uuid": "88c43287-02f5-4903-9142-a1ed953d4cdc",
    "execution": {
     "iopub.execute_input": "2022-03-23T17:49:24.603447Z",
     "iopub.status.busy": "2022-03-23T17:49:24.603030Z",
     "iopub.status.idle": "2022-03-23T17:49:24.925147Z",
     "shell.execute_reply": "2022-03-23T17:49:24.924551Z",
     "shell.execute_reply.started": "2022-03-23T17:49:24.603415Z"
    },
    "jupyter": {
     "outputs_hidden": false
    }
   },
   "outputs": [
    {
     "data": {
      "text/plain": [
       "<AxesSubplot:xlabel='district'>"
      ]
     },
     "execution_count": 38,
     "metadata": {},
     "output_type": "execute_result"
    },
    {
     "data": {
      "image/png": "[encoded data removed]",
      "text/plain": [
       "<Figure size 432x288 with 1 Axes>"
      ]
     },
     "metadata": {
      "needs_background": "light"
     },
     "output_type": "display_data"
    }
   ],
   "source": [
    "dist_group.plot.bar(y=[\"volume\"])"
   ]
  },
  {
   "cell_type": "code",
   "execution_count": 39,
   "metadata": {
    "_cell_guid": "37b16f2b-da9b-4928-980f-a70fda2f1a62",
    "_uuid": "3c206a38-b0be-4687-8147-ba37a5f6e99e",
    "execution": {
     "iopub.execute_input": "2022-03-23T17:49:24.926661Z",
     "iopub.status.busy": "2022-03-23T17:49:24.926360Z",
     "iopub.status.idle": "2022-03-23T17:49:24.947565Z",
     "shell.execute_reply": "2022-03-23T17:49:24.946939Z",
     "shell.execute_reply.started": "2022-03-23T17:49:24.926627Z"
    },
    "jupyter": {
     "outputs_hidden": false
    }
   },
   "outputs": [
    {
     "data": {
      "text/html": [
       "<div>\n",
       "<style scoped>\n",
       "    .dataframe tbody tr th:only-of-type {\n",
       "        vertical-align: middle;\n",
       "    }\n",
       "\n",
       "    .dataframe tbody tr th {\n",
       "        vertical-align: top;\n",
       "    }\n",
       "\n",
       "    .dataframe thead th {\n",
       "        text-align: right;\n",
       "    }\n",
       "</style>\n",
       "<table border=\"1\" class=\"dataframe\">\n",
       "  <thead>\n",
       "    <tr style=\"text-align: right;\">\n",
       "      <th></th>\n",
       "      <th>id</th>\n",
       "      <th>price</th>\n",
       "      <th>bus</th>\n",
       "      <th>metro</th>\n",
       "      <th>district</th>\n",
       "      <th>volume</th>\n",
       "      <th>rooms</th>\n",
       "    </tr>\n",
       "  </thead>\n",
       "  <tbody>\n",
       "    <tr>\n",
       "      <th>154</th>\n",
       "      <td>ad_965</td>\n",
       "      <td>599000</td>\n",
       "      <td>7.0</td>\n",
       "      <td>1.0</td>\n",
       "      <td>18.0</td>\n",
       "      <td>62</td>\n",
       "      <td>3</td>\n",
       "    </tr>\n",
       "    <tr>\n",
       "      <th>302</th>\n",
       "      <td>ad_1427</td>\n",
       "      <td>650000</td>\n",
       "      <td>11.0</td>\n",
       "      <td>1.0</td>\n",
       "      <td>15.0</td>\n",
       "      <td>78</td>\n",
       "      <td>3</td>\n",
       "    </tr>\n",
       "    <tr>\n",
       "      <th>315</th>\n",
       "      <td>ad_869</td>\n",
       "      <td>250000</td>\n",
       "      <td>4.0</td>\n",
       "      <td>1.0</td>\n",
       "      <td>14.0</td>\n",
       "      <td>23</td>\n",
       "      <td>2</td>\n",
       "    </tr>\n",
       "    <tr>\n",
       "      <th>345</th>\n",
       "      <td>ad_420</td>\n",
       "      <td>295000</td>\n",
       "      <td>9.0</td>\n",
       "      <td>1.0</td>\n",
       "      <td>18.0</td>\n",
       "      <td>31</td>\n",
       "      <td>2</td>\n",
       "    </tr>\n",
       "    <tr>\n",
       "      <th>358</th>\n",
       "      <td>ad_1593</td>\n",
       "      <td>695000</td>\n",
       "      <td>11.0</td>\n",
       "      <td>1.0</td>\n",
       "      <td>15.0</td>\n",
       "      <td>60</td>\n",
       "      <td>3</td>\n",
       "    </tr>\n",
       "    <tr>\n",
       "      <th>...</th>\n",
       "      <td>...</td>\n",
       "      <td>...</td>\n",
       "      <td>...</td>\n",
       "      <td>...</td>\n",
       "      <td>...</td>\n",
       "      <td>...</td>\n",
       "      <td>...</td>\n",
       "    </tr>\n",
       "    <tr>\n",
       "      <th>1868</th>\n",
       "      <td>ad_412</td>\n",
       "      <td>520000</td>\n",
       "      <td>7.0</td>\n",
       "      <td>1.0</td>\n",
       "      <td>11.0</td>\n",
       "      <td>49</td>\n",
       "      <td>2</td>\n",
       "    </tr>\n",
       "    <tr>\n",
       "      <th>1869</th>\n",
       "      <td>ad_767</td>\n",
       "      <td>850000</td>\n",
       "      <td>7.0</td>\n",
       "      <td>0.0</td>\n",
       "      <td>11.0</td>\n",
       "      <td>80</td>\n",
       "      <td>2</td>\n",
       "    </tr>\n",
       "    <tr>\n",
       "      <th>1872</th>\n",
       "      <td>ad_1441</td>\n",
       "      <td>441000</td>\n",
       "      <td>6.0</td>\n",
       "      <td>0.0</td>\n",
       "      <td>13.0</td>\n",
       "      <td>46</td>\n",
       "      <td>2</td>\n",
       "    </tr>\n",
       "    <tr>\n",
       "      <th>1873</th>\n",
       "      <td>ad_380</td>\n",
       "      <td>785000</td>\n",
       "      <td>4.0</td>\n",
       "      <td>1.0</td>\n",
       "      <td>14.0</td>\n",
       "      <td>53</td>\n",
       "      <td>3</td>\n",
       "    </tr>\n",
       "    <tr>\n",
       "      <th>1874</th>\n",
       "      <td>ad_534</td>\n",
       "      <td>165000</td>\n",
       "      <td>9.0</td>\n",
       "      <td>1.0</td>\n",
       "      <td>18.0</td>\n",
       "      <td>13</td>\n",
       "      <td>1</td>\n",
       "    </tr>\n",
       "  </tbody>\n",
       "</table>\n",
       "<p>433 rows × 7 columns</p>\n",
       "</div>"
      ],
      "text/plain": [
       "           id   price   bus  metro  district  volume  rooms\n",
       "154    ad_965  599000   7.0    1.0      18.0      62      3\n",
       "302   ad_1427  650000  11.0    1.0      15.0      78      3\n",
       "315    ad_869  250000   4.0    1.0      14.0      23      2\n",
       "345    ad_420  295000   9.0    1.0      18.0      31      2\n",
       "358   ad_1593  695000  11.0    1.0      15.0      60      3\n",
       "...       ...     ...   ...    ...       ...     ...    ...\n",
       "1868   ad_412  520000   7.0    1.0      11.0      49      2\n",
       "1869   ad_767  850000   7.0    0.0      11.0      80      2\n",
       "1872  ad_1441  441000   6.0    0.0      13.0      46      2\n",
       "1873   ad_380  785000   4.0    1.0      14.0      53      3\n",
       "1874   ad_534  165000   9.0    1.0      18.0      13      1\n",
       "\n",
       "[433 rows x 7 columns]"
      ]
     },
     "execution_count": 39,
     "metadata": {},
     "output_type": "execute_result"
    }
   ],
   "source": [
    "df"
   ]
  },
  {
   "cell_type": "code",
   "execution_count": 40,
   "metadata": {
    "_cell_guid": "188de043-42b5-42aa-9aa7-776715b36227",
    "_uuid": "cdf976a6-30a8-4e3c-9197-0dd8320a2821",
    "execution": {
     "iopub.execute_input": "2022-03-23T17:49:24.951717Z",
     "iopub.status.busy": "2022-03-23T17:49:24.950081Z",
     "iopub.status.idle": "2022-03-23T17:49:28.420004Z",
     "shell.execute_reply": "2022-03-23T17:49:28.419417Z",
     "shell.execute_reply.started": "2022-03-23T17:49:24.951667Z"
    },
    "jupyter": {
     "outputs_hidden": false
    }
   },
   "outputs": [
    {
     "data": {
      "text/plain": [
       "<seaborn.axisgrid.PairGrid at 0x23c48d30f98>"
      ]
     },
     "execution_count": 40,
     "metadata": {},
     "output_type": "execute_result"
    },
    {
     "data": {
      "image/png": "[encoded data removed]",
      "text/plain": [
       "<Figure size 1080x1080 with 42 Axes>"
      ]
     },
     "metadata": {
      "needs_background": "light"
     },
     "output_type": "display_data"
    }
   ],
   "source": [
    "sns.pairplot(df)"
   ]
  },
  {
   "cell_type": "code",
   "execution_count": 41,
   "metadata": {
    "_cell_guid": "5eacf7bc-f996-4fc5-a167-e5b5403344c8",
    "_uuid": "ab378283-9597-4328-ad81-ede180e15f14",
    "execution": {
     "iopub.execute_input": "2022-03-23T17:49:28.421438Z",
     "iopub.status.busy": "2022-03-23T17:49:28.421031Z",
     "iopub.status.idle": "2022-03-23T17:49:28.858434Z",
     "shell.execute_reply": "2022-03-23T17:49:28.857577Z",
     "shell.execute_reply.started": "2022-03-23T17:49:28.421408Z"
    },
    "jupyter": {
     "outputs_hidden": false
    }
   },
   "outputs": [
    {
     "data": {
      "text/plain": [
       "<AxesSubplot:>"
      ]
     },
     "execution_count": 41,
     "metadata": {},
     "output_type": "execute_result"
    },
    {
     "data": {
      "image/png": "[encoded data removed]",
      "text/plain": [
       "<Figure size 432x288 with 2 Axes>"
      ]
     },
     "metadata": {
      "needs_background": "light"
     },
     "output_type": "display_data"
    }
   ],
   "source": [
    "sns.heatmap(df.corr(), annot=True)"
   ]
  },
  {
   "cell_type": "code",
   "execution_count": 42,
   "metadata": {
    "_cell_guid": "b31ba765-d15c-4df8-98db-c4e278b4992d",
    "_uuid": "308a96d9-8bf8-404d-b8ba-203d83c0b75e",
    "execution": {
     "iopub.execute_input": "2022-03-23T17:49:28.859898Z",
     "iopub.status.busy": "2022-03-23T17:49:28.859612Z",
     "iopub.status.idle": "2022-03-23T17:49:28.882830Z",
     "shell.execute_reply": "2022-03-23T17:49:28.882012Z",
     "shell.execute_reply.started": "2022-03-23T17:49:28.859870Z"
    },
    "jupyter": {
     "outputs_hidden": false
    }
   },
   "outputs": [
    {
     "data": {
      "text/html": [
       "<div>\n",
       "<style scoped>\n",
       "    .dataframe tbody tr th:only-of-type {\n",
       "        vertical-align: middle;\n",
       "    }\n",
       "\n",
       "    .dataframe tbody tr th {\n",
       "        vertical-align: top;\n",
       "    }\n",
       "\n",
       "    .dataframe thead th {\n",
       "        text-align: right;\n",
       "    }\n",
       "</style>\n",
       "<table border=\"1\" class=\"dataframe\">\n",
       "  <thead>\n",
       "    <tr style=\"text-align: right;\">\n",
       "      <th></th>\n",
       "      <th>2.0</th>\n",
       "      <th>3.0</th>\n",
       "      <th>4.0</th>\n",
       "      <th>5.0</th>\n",
       "      <th>6.0</th>\n",
       "      <th>7.0</th>\n",
       "      <th>8.0</th>\n",
       "      <th>9.0</th>\n",
       "      <th>10.0</th>\n",
       "      <th>11.0</th>\n",
       "      <th>12.0</th>\n",
       "      <th>13.0</th>\n",
       "      <th>14.0</th>\n",
       "      <th>15.0</th>\n",
       "      <th>16.0</th>\n",
       "      <th>17.0</th>\n",
       "      <th>18.0</th>\n",
       "      <th>19.0</th>\n",
       "      <th>20.0</th>\n",
       "    </tr>\n",
       "  </thead>\n",
       "  <tbody>\n",
       "    <tr>\n",
       "      <th>154</th>\n",
       "      <td>0</td>\n",
       "      <td>0</td>\n",
       "      <td>0</td>\n",
       "      <td>0</td>\n",
       "      <td>0</td>\n",
       "      <td>0</td>\n",
       "      <td>0</td>\n",
       "      <td>0</td>\n",
       "      <td>0</td>\n",
       "      <td>0</td>\n",
       "      <td>0</td>\n",
       "      <td>0</td>\n",
       "      <td>0</td>\n",
       "      <td>0</td>\n",
       "      <td>0</td>\n",
       "      <td>0</td>\n",
       "      <td>1</td>\n",
       "      <td>0</td>\n",
       "      <td>0</td>\n",
       "    </tr>\n",
       "    <tr>\n",
       "      <th>302</th>\n",
       "      <td>0</td>\n",
       "      <td>0</td>\n",
       "      <td>0</td>\n",
       "      <td>0</td>\n",
       "      <td>0</td>\n",
       "      <td>0</td>\n",
       "      <td>0</td>\n",
       "      <td>0</td>\n",
       "      <td>0</td>\n",
       "      <td>0</td>\n",
       "      <td>0</td>\n",
       "      <td>0</td>\n",
       "      <td>0</td>\n",
       "      <td>1</td>\n",
       "      <td>0</td>\n",
       "      <td>0</td>\n",
       "      <td>0</td>\n",
       "      <td>0</td>\n",
       "      <td>0</td>\n",
       "    </tr>\n",
       "    <tr>\n",
       "      <th>315</th>\n",
       "      <td>0</td>\n",
       "      <td>0</td>\n",
       "      <td>0</td>\n",
       "      <td>0</td>\n",
       "      <td>0</td>\n",
       "      <td>0</td>\n",
       "      <td>0</td>\n",
       "      <td>0</td>\n",
       "      <td>0</td>\n",
       "      <td>0</td>\n",
       "      <td>0</td>\n",
       "      <td>0</td>\n",
       "      <td>1</td>\n",
       "      <td>0</td>\n",
       "      <td>0</td>\n",
       "      <td>0</td>\n",
       "      <td>0</td>\n",
       "      <td>0</td>\n",
       "      <td>0</td>\n",
       "    </tr>\n",
       "    <tr>\n",
       "      <th>345</th>\n",
       "      <td>0</td>\n",
       "      <td>0</td>\n",
       "      <td>0</td>\n",
       "      <td>0</td>\n",
       "      <td>0</td>\n",
       "      <td>0</td>\n",
       "      <td>0</td>\n",
       "      <td>0</td>\n",
       "      <td>0</td>\n",
       "      <td>0</td>\n",
       "      <td>0</td>\n",
       "      <td>0</td>\n",
       "      <td>0</td>\n",
       "      <td>0</td>\n",
       "      <td>0</td>\n",
       "      <td>0</td>\n",
       "      <td>1</td>\n",
       "      <td>0</td>\n",
       "      <td>0</td>\n",
       "    </tr>\n",
       "    <tr>\n",
       "      <th>358</th>\n",
       "      <td>0</td>\n",
       "      <td>0</td>\n",
       "      <td>0</td>\n",
       "      <td>0</td>\n",
       "      <td>0</td>\n",
       "      <td>0</td>\n",
       "      <td>0</td>\n",
       "      <td>0</td>\n",
       "      <td>0</td>\n",
       "      <td>0</td>\n",
       "      <td>0</td>\n",
       "      <td>0</td>\n",
       "      <td>0</td>\n",
       "      <td>1</td>\n",
       "      <td>0</td>\n",
       "      <td>0</td>\n",
       "      <td>0</td>\n",
       "      <td>0</td>\n",
       "      <td>0</td>\n",
       "    </tr>\n",
       "    <tr>\n",
       "      <th>...</th>\n",
       "      <td>...</td>\n",
       "      <td>...</td>\n",
       "      <td>...</td>\n",
       "      <td>...</td>\n",
       "      <td>...</td>\n",
       "      <td>...</td>\n",
       "      <td>...</td>\n",
       "      <td>...</td>\n",
       "      <td>...</td>\n",
       "      <td>...</td>\n",
       "      <td>...</td>\n",
       "      <td>...</td>\n",
       "      <td>...</td>\n",
       "      <td>...</td>\n",
       "      <td>...</td>\n",
       "      <td>...</td>\n",
       "      <td>...</td>\n",
       "      <td>...</td>\n",
       "      <td>...</td>\n",
       "    </tr>\n",
       "    <tr>\n",
       "      <th>1868</th>\n",
       "      <td>0</td>\n",
       "      <td>0</td>\n",
       "      <td>0</td>\n",
       "      <td>0</td>\n",
       "      <td>0</td>\n",
       "      <td>0</td>\n",
       "      <td>0</td>\n",
       "      <td>0</td>\n",
       "      <td>0</td>\n",
       "      <td>1</td>\n",
       "      <td>0</td>\n",
       "      <td>0</td>\n",
       "      <td>0</td>\n",
       "      <td>0</td>\n",
       "      <td>0</td>\n",
       "      <td>0</td>\n",
       "      <td>0</td>\n",
       "      <td>0</td>\n",
       "      <td>0</td>\n",
       "    </tr>\n",
       "    <tr>\n",
       "      <th>1869</th>\n",
       "      <td>0</td>\n",
       "      <td>0</td>\n",
       "      <td>0</td>\n",
       "      <td>0</td>\n",
       "      <td>0</td>\n",
       "      <td>0</td>\n",
       "      <td>0</td>\n",
       "      <td>0</td>\n",
       "      <td>0</td>\n",
       "      <td>1</td>\n",
       "      <td>0</td>\n",
       "      <td>0</td>\n",
       "      <td>0</td>\n",
       "      <td>0</td>\n",
       "      <td>0</td>\n",
       "      <td>0</td>\n",
       "      <td>0</td>\n",
       "      <td>0</td>\n",
       "      <td>0</td>\n",
       "    </tr>\n",
       "    <tr>\n",
       "      <th>1872</th>\n",
       "      <td>0</td>\n",
       "      <td>0</td>\n",
       "      <td>0</td>\n",
       "      <td>0</td>\n",
       "      <td>0</td>\n",
       "      <td>0</td>\n",
       "      <td>0</td>\n",
       "      <td>0</td>\n",
       "      <td>0</td>\n",
       "      <td>0</td>\n",
       "      <td>0</td>\n",
       "      <td>1</td>\n",
       "      <td>0</td>\n",
       "      <td>0</td>\n",
       "      <td>0</td>\n",
       "      <td>0</td>\n",
       "      <td>0</td>\n",
       "      <td>0</td>\n",
       "      <td>0</td>\n",
       "    </tr>\n",
       "    <tr>\n",
       "      <th>1873</th>\n",
       "      <td>0</td>\n",
       "      <td>0</td>\n",
       "      <td>0</td>\n",
       "      <td>0</td>\n",
       "      <td>0</td>\n",
       "      <td>0</td>\n",
       "      <td>0</td>\n",
       "      <td>0</td>\n",
       "      <td>0</td>\n",
       "      <td>0</td>\n",
       "      <td>0</td>\n",
       "      <td>0</td>\n",
       "      <td>1</td>\n",
       "      <td>0</td>\n",
       "      <td>0</td>\n",
       "      <td>0</td>\n",
       "      <td>0</td>\n",
       "      <td>0</td>\n",
       "      <td>0</td>\n",
       "    </tr>\n",
       "    <tr>\n",
       "      <th>1874</th>\n",
       "      <td>0</td>\n",
       "      <td>0</td>\n",
       "      <td>0</td>\n",
       "      <td>0</td>\n",
       "      <td>0</td>\n",
       "      <td>0</td>\n",
       "      <td>0</td>\n",
       "      <td>0</td>\n",
       "      <td>0</td>\n",
       "      <td>0</td>\n",
       "      <td>0</td>\n",
       "      <td>0</td>\n",
       "      <td>0</td>\n",
       "      <td>0</td>\n",
       "      <td>0</td>\n",
       "      <td>0</td>\n",
       "      <td>1</td>\n",
       "      <td>0</td>\n",
       "      <td>0</td>\n",
       "    </tr>\n",
       "  </tbody>\n",
       "</table>\n",
       "<p>433 rows × 19 columns</p>\n",
       "</div>"
      ],
      "text/plain": [
       "      2.0   3.0   4.0   5.0   6.0   7.0   8.0   9.0   10.0  11.0  12.0  13.0  \\\n",
       "154      0     0     0     0     0     0     0     0     0     0     0     0   \n",
       "302      0     0     0     0     0     0     0     0     0     0     0     0   \n",
       "315      0     0     0     0     0     0     0     0     0     0     0     0   \n",
       "345      0     0     0     0     0     0     0     0     0     0     0     0   \n",
       "358      0     0     0     0     0     0     0     0     0     0     0     0   \n",
       "...    ...   ...   ...   ...   ...   ...   ...   ...   ...   ...   ...   ...   \n",
       "1868     0     0     0     0     0     0     0     0     0     1     0     0   \n",
       "1869     0     0     0     0     0     0     0     0     0     1     0     0   \n",
       "1872     0     0     0     0     0     0     0     0     0     0     0     1   \n",
       "1873     0     0     0     0     0     0     0     0     0     0     0     0   \n",
       "1874     0     0     0     0     0     0     0     0     0     0     0     0   \n",
       "\n",
       "      14.0  15.0  16.0  17.0  18.0  19.0  20.0  \n",
       "154      0     0     0     0     1     0     0  \n",
       "302      0     1     0     0     0     0     0  \n",
       "315      1     0     0     0     0     0     0  \n",
       "345      0     0     0     0     1     0     0  \n",
       "358      0     1     0     0     0     0     0  \n",
       "...    ...   ...   ...   ...   ...   ...   ...  \n",
       "1868     0     0     0     0     0     0     0  \n",
       "1869     0     0     0     0     0     0     0  \n",
       "1872     0     0     0     0     0     0     0  \n",
       "1873     1     0     0     0     0     0     0  \n",
       "1874     0     0     0     0     1     0     0  \n",
       "\n",
       "[433 rows x 19 columns]"
      ]
     },
     "execution_count": 42,
     "metadata": {},
     "output_type": "execute_result"
    }
   ],
   "source": [
    "df_district = pd.get_dummies(df['district'])\n",
    "df_district"
   ]
  },
  {
   "cell_type": "code",
   "execution_count": 43,
   "metadata": {
    "_cell_guid": "89cb8c1d-3064-4e02-b1e8-fe24d38d5434",
    "_uuid": "05482034-afe9-4136-b6c0-7360afa8f74e",
    "execution": {
     "iopub.execute_input": "2022-03-23T17:49:28.884357Z",
     "iopub.status.busy": "2022-03-23T17:49:28.884148Z",
     "iopub.status.idle": "2022-03-23T17:49:28.890013Z",
     "shell.execute_reply": "2022-03-23T17:49:28.889131Z",
     "shell.execute_reply.started": "2022-03-23T17:49:28.884332Z"
    },
    "jupyter": {
     "outputs_hidden": false
    }
   },
   "outputs": [],
   "source": [
    "df.drop(['district'], axis=1, inplace=True, errors='ignore')"
   ]
  },
  {
   "cell_type": "code",
   "execution_count": 44,
   "metadata": {
    "_cell_guid": "7a215e79-6613-4cbc-8b67-c4e8fa0da1ec",
    "_uuid": "41161127-3d81-4bab-a1e1-8bde2874c839",
    "execution": {
     "iopub.execute_input": "2022-03-23T17:49:28.891608Z",
     "iopub.status.busy": "2022-03-23T17:49:28.891359Z",
     "iopub.status.idle": "2022-03-23T17:49:28.901952Z",
     "shell.execute_reply": "2022-03-23T17:49:28.901053Z",
     "shell.execute_reply.started": "2022-03-23T17:49:28.891579Z"
    },
    "jupyter": {
     "outputs_hidden": false
    }
   },
   "outputs": [],
   "source": [
    "df = pd.concat([df, df_district], axis=1)"
   ]
  },
  {
   "cell_type": "code",
   "execution_count": 45,
   "metadata": {
    "_cell_guid": "b3b378f0-030c-4eae-a13d-56177d8bd62e",
    "_uuid": "dfb83879-1c6b-4bf9-8f06-e04aa7e56d5a",
    "execution": {
     "iopub.execute_input": "2022-03-23T17:49:28.903387Z",
     "iopub.status.busy": "2022-03-23T17:49:28.903086Z",
     "iopub.status.idle": "2022-03-23T17:49:28.915636Z",
     "shell.execute_reply": "2022-03-23T17:49:28.914875Z",
     "shell.execute_reply.started": "2022-03-23T17:49:28.903356Z"
    },
    "jupyter": {
     "outputs_hidden": false
    }
   },
   "outputs": [],
   "source": [
    "df.drop(['id'], axis=1, inplace=True, errors='ignore')\n",
    "X = df.loc[:, df.columns != 'price']\n",
    "y = df[[\"price\"]]"
   ]
  },
  {
   "cell_type": "code",
   "execution_count": 46,
   "metadata": {
    "_cell_guid": "c539f8ff-c5df-4d18-9d74-f91a90aed4dd",
    "_uuid": "63e038ee-a022-4412-96d4-09e7f814f2c3",
    "execution": {
     "iopub.execute_input": "2022-03-23T17:49:28.918550Z",
     "iopub.status.busy": "2022-03-23T17:49:28.917965Z",
     "iopub.status.idle": "2022-03-23T17:49:28.929975Z",
     "shell.execute_reply": "2022-03-23T17:49:28.929224Z",
     "shell.execute_reply.started": "2022-03-23T17:49:28.918489Z"
    },
    "jupyter": {
     "outputs_hidden": false
    }
   },
   "outputs": [],
   "source": [
    "X_train, X_test, y_train, y_test = train_test_split(X, y, test_size=0.3, random_state=101)"
   ]
  },
  {
   "cell_type": "code",
   "execution_count": 47,
   "metadata": {
    "_cell_guid": "8896fdea-66e9-47ed-b63c-e4ddd1728ee0",
    "_uuid": "d9f548fd-990b-4f42-801e-64947c72de46",
    "execution": {
     "iopub.execute_input": "2022-03-23T17:49:28.934639Z",
     "iopub.status.busy": "2022-03-23T17:49:28.934398Z",
     "iopub.status.idle": "2022-03-23T17:49:28.957324Z",
     "shell.execute_reply": "2022-03-23T17:49:28.956653Z",
     "shell.execute_reply.started": "2022-03-23T17:49:28.934613Z"
    },
    "jupyter": {
     "outputs_hidden": false
    }
   },
   "outputs": [
    {
     "data": {
      "text/html": [
       "<div>\n",
       "<style scoped>\n",
       "    .dataframe tbody tr th:only-of-type {\n",
       "        vertical-align: middle;\n",
       "    }\n",
       "\n",
       "    .dataframe tbody tr th {\n",
       "        vertical-align: top;\n",
       "    }\n",
       "\n",
       "    .dataframe thead th {\n",
       "        text-align: right;\n",
       "    }\n",
       "</style>\n",
       "<table border=\"1\" class=\"dataframe\">\n",
       "  <thead>\n",
       "    <tr style=\"text-align: right;\">\n",
       "      <th></th>\n",
       "      <th>bus</th>\n",
       "      <th>metro</th>\n",
       "      <th>volume</th>\n",
       "      <th>rooms</th>\n",
       "      <th>2.0</th>\n",
       "      <th>3.0</th>\n",
       "      <th>4.0</th>\n",
       "      <th>5.0</th>\n",
       "      <th>6.0</th>\n",
       "      <th>7.0</th>\n",
       "      <th>...</th>\n",
       "      <th>11.0</th>\n",
       "      <th>12.0</th>\n",
       "      <th>13.0</th>\n",
       "      <th>14.0</th>\n",
       "      <th>15.0</th>\n",
       "      <th>16.0</th>\n",
       "      <th>17.0</th>\n",
       "      <th>18.0</th>\n",
       "      <th>19.0</th>\n",
       "      <th>20.0</th>\n",
       "    </tr>\n",
       "  </thead>\n",
       "  <tbody>\n",
       "    <tr>\n",
       "      <th>1221</th>\n",
       "      <td>10.0</td>\n",
       "      <td>1.0</td>\n",
       "      <td>106</td>\n",
       "      <td>3</td>\n",
       "      <td>0</td>\n",
       "      <td>0</td>\n",
       "      <td>0</td>\n",
       "      <td>0</td>\n",
       "      <td>0</td>\n",
       "      <td>0</td>\n",
       "      <td>...</td>\n",
       "      <td>0</td>\n",
       "      <td>0</td>\n",
       "      <td>0</td>\n",
       "      <td>0</td>\n",
       "      <td>0</td>\n",
       "      <td>0</td>\n",
       "      <td>0</td>\n",
       "      <td>0</td>\n",
       "      <td>0</td>\n",
       "      <td>0</td>\n",
       "    </tr>\n",
       "    <tr>\n",
       "      <th>466</th>\n",
       "      <td>7.0</td>\n",
       "      <td>1.0</td>\n",
       "      <td>30</td>\n",
       "      <td>2</td>\n",
       "      <td>0</td>\n",
       "      <td>0</td>\n",
       "      <td>0</td>\n",
       "      <td>0</td>\n",
       "      <td>0</td>\n",
       "      <td>0</td>\n",
       "      <td>...</td>\n",
       "      <td>0</td>\n",
       "      <td>0</td>\n",
       "      <td>0</td>\n",
       "      <td>0</td>\n",
       "      <td>0</td>\n",
       "      <td>0</td>\n",
       "      <td>1</td>\n",
       "      <td>0</td>\n",
       "      <td>0</td>\n",
       "      <td>0</td>\n",
       "    </tr>\n",
       "    <tr>\n",
       "      <th>1302</th>\n",
       "      <td>6.0</td>\n",
       "      <td>0.0</td>\n",
       "      <td>93</td>\n",
       "      <td>4</td>\n",
       "      <td>0</td>\n",
       "      <td>0</td>\n",
       "      <td>0</td>\n",
       "      <td>0</td>\n",
       "      <td>0</td>\n",
       "      <td>0</td>\n",
       "      <td>...</td>\n",
       "      <td>0</td>\n",
       "      <td>0</td>\n",
       "      <td>0</td>\n",
       "      <td>0</td>\n",
       "      <td>1</td>\n",
       "      <td>0</td>\n",
       "      <td>0</td>\n",
       "      <td>0</td>\n",
       "      <td>0</td>\n",
       "      <td>0</td>\n",
       "    </tr>\n",
       "    <tr>\n",
       "      <th>1339</th>\n",
       "      <td>7.0</td>\n",
       "      <td>1.0</td>\n",
       "      <td>51</td>\n",
       "      <td>2</td>\n",
       "      <td>0</td>\n",
       "      <td>0</td>\n",
       "      <td>0</td>\n",
       "      <td>0</td>\n",
       "      <td>0</td>\n",
       "      <td>0</td>\n",
       "      <td>...</td>\n",
       "      <td>0</td>\n",
       "      <td>0</td>\n",
       "      <td>0</td>\n",
       "      <td>0</td>\n",
       "      <td>0</td>\n",
       "      <td>0</td>\n",
       "      <td>1</td>\n",
       "      <td>0</td>\n",
       "      <td>0</td>\n",
       "      <td>0</td>\n",
       "    </tr>\n",
       "    <tr>\n",
       "      <th>1681</th>\n",
       "      <td>8.0</td>\n",
       "      <td>0.0</td>\n",
       "      <td>75</td>\n",
       "      <td>3</td>\n",
       "      <td>0</td>\n",
       "      <td>0</td>\n",
       "      <td>0</td>\n",
       "      <td>0</td>\n",
       "      <td>0</td>\n",
       "      <td>0</td>\n",
       "      <td>...</td>\n",
       "      <td>1</td>\n",
       "      <td>0</td>\n",
       "      <td>0</td>\n",
       "      <td>0</td>\n",
       "      <td>0</td>\n",
       "      <td>0</td>\n",
       "      <td>0</td>\n",
       "      <td>0</td>\n",
       "      <td>0</td>\n",
       "      <td>0</td>\n",
       "    </tr>\n",
       "    <tr>\n",
       "      <th>...</th>\n",
       "      <td>...</td>\n",
       "      <td>...</td>\n",
       "      <td>...</td>\n",
       "      <td>...</td>\n",
       "      <td>...</td>\n",
       "      <td>...</td>\n",
       "      <td>...</td>\n",
       "      <td>...</td>\n",
       "      <td>...</td>\n",
       "      <td>...</td>\n",
       "      <td>...</td>\n",
       "      <td>...</td>\n",
       "      <td>...</td>\n",
       "      <td>...</td>\n",
       "      <td>...</td>\n",
       "      <td>...</td>\n",
       "      <td>...</td>\n",
       "      <td>...</td>\n",
       "      <td>...</td>\n",
       "      <td>...</td>\n",
       "      <td>...</td>\n",
       "    </tr>\n",
       "    <tr>\n",
       "      <th>1018</th>\n",
       "      <td>4.0</td>\n",
       "      <td>1.0</td>\n",
       "      <td>20</td>\n",
       "      <td>2</td>\n",
       "      <td>0</td>\n",
       "      <td>0</td>\n",
       "      <td>0</td>\n",
       "      <td>0</td>\n",
       "      <td>0</td>\n",
       "      <td>0</td>\n",
       "      <td>...</td>\n",
       "      <td>0</td>\n",
       "      <td>0</td>\n",
       "      <td>0</td>\n",
       "      <td>0</td>\n",
       "      <td>1</td>\n",
       "      <td>0</td>\n",
       "      <td>0</td>\n",
       "      <td>0</td>\n",
       "      <td>0</td>\n",
       "      <td>0</td>\n",
       "    </tr>\n",
       "    <tr>\n",
       "      <th>1703</th>\n",
       "      <td>12.0</td>\n",
       "      <td>0.0</td>\n",
       "      <td>51</td>\n",
       "      <td>3</td>\n",
       "      <td>0</td>\n",
       "      <td>0</td>\n",
       "      <td>0</td>\n",
       "      <td>0</td>\n",
       "      <td>0</td>\n",
       "      <td>0</td>\n",
       "      <td>...</td>\n",
       "      <td>0</td>\n",
       "      <td>0</td>\n",
       "      <td>0</td>\n",
       "      <td>0</td>\n",
       "      <td>0</td>\n",
       "      <td>0</td>\n",
       "      <td>0</td>\n",
       "      <td>0</td>\n",
       "      <td>0</td>\n",
       "      <td>1</td>\n",
       "    </tr>\n",
       "    <tr>\n",
       "      <th>1724</th>\n",
       "      <td>11.0</td>\n",
       "      <td>1.0</td>\n",
       "      <td>171</td>\n",
       "      <td>8</td>\n",
       "      <td>0</td>\n",
       "      <td>0</td>\n",
       "      <td>0</td>\n",
       "      <td>0</td>\n",
       "      <td>0</td>\n",
       "      <td>0</td>\n",
       "      <td>...</td>\n",
       "      <td>0</td>\n",
       "      <td>0</td>\n",
       "      <td>0</td>\n",
       "      <td>0</td>\n",
       "      <td>0</td>\n",
       "      <td>0</td>\n",
       "      <td>0</td>\n",
       "      <td>0</td>\n",
       "      <td>0</td>\n",
       "      <td>1</td>\n",
       "    </tr>\n",
       "    <tr>\n",
       "      <th>522</th>\n",
       "      <td>9.0</td>\n",
       "      <td>0.0</td>\n",
       "      <td>49</td>\n",
       "      <td>2</td>\n",
       "      <td>0</td>\n",
       "      <td>0</td>\n",
       "      <td>0</td>\n",
       "      <td>1</td>\n",
       "      <td>0</td>\n",
       "      <td>0</td>\n",
       "      <td>...</td>\n",
       "      <td>0</td>\n",
       "      <td>0</td>\n",
       "      <td>0</td>\n",
       "      <td>0</td>\n",
       "      <td>0</td>\n",
       "      <td>0</td>\n",
       "      <td>0</td>\n",
       "      <td>0</td>\n",
       "      <td>0</td>\n",
       "      <td>0</td>\n",
       "    </tr>\n",
       "    <tr>\n",
       "      <th>1746</th>\n",
       "      <td>2.0</td>\n",
       "      <td>0.0</td>\n",
       "      <td>38</td>\n",
       "      <td>2</td>\n",
       "      <td>0</td>\n",
       "      <td>0</td>\n",
       "      <td>0</td>\n",
       "      <td>0</td>\n",
       "      <td>0</td>\n",
       "      <td>0</td>\n",
       "      <td>...</td>\n",
       "      <td>0</td>\n",
       "      <td>0</td>\n",
       "      <td>0</td>\n",
       "      <td>0</td>\n",
       "      <td>0</td>\n",
       "      <td>0</td>\n",
       "      <td>0</td>\n",
       "      <td>0</td>\n",
       "      <td>0</td>\n",
       "      <td>0</td>\n",
       "    </tr>\n",
       "  </tbody>\n",
       "</table>\n",
       "<p>303 rows × 23 columns</p>\n",
       "</div>"
      ],
      "text/plain": [
       "       bus  metro  volume  rooms  2.0  3.0  4.0  5.0  6.0  7.0  ...  11.0  \\\n",
       "1221  10.0    1.0     106      3    0    0    0    0    0    0  ...     0   \n",
       "466    7.0    1.0      30      2    0    0    0    0    0    0  ...     0   \n",
       "1302   6.0    0.0      93      4    0    0    0    0    0    0  ...     0   \n",
       "1339   7.0    1.0      51      2    0    0    0    0    0    0  ...     0   \n",
       "1681   8.0    0.0      75      3    0    0    0    0    0    0  ...     1   \n",
       "...    ...    ...     ...    ...  ...  ...  ...  ...  ...  ...  ...   ...   \n",
       "1018   4.0    1.0      20      2    0    0    0    0    0    0  ...     0   \n",
       "1703  12.0    0.0      51      3    0    0    0    0    0    0  ...     0   \n",
       "1724  11.0    1.0     171      8    0    0    0    0    0    0  ...     0   \n",
       "522    9.0    0.0      49      2    0    0    0    1    0    0  ...     0   \n",
       "1746   2.0    0.0      38      2    0    0    0    0    0    0  ...     0   \n",
       "\n",
       "      12.0  13.0  14.0  15.0  16.0  17.0  18.0  19.0  20.0  \n",
       "1221     0     0     0     0     0     0     0     0     0  \n",
       "466      0     0     0     0     0     1     0     0     0  \n",
       "1302     0     0     0     1     0     0     0     0     0  \n",
       "1339     0     0     0     0     0     1     0     0     0  \n",
       "1681     0     0     0     0     0     0     0     0     0  \n",
       "...    ...   ...   ...   ...   ...   ...   ...   ...   ...  \n",
       "1018     0     0     0     1     0     0     0     0     0  \n",
       "1703     0     0     0     0     0     0     0     0     1  \n",
       "1724     0     0     0     0     0     0     0     0     1  \n",
       "522      0     0     0     0     0     0     0     0     0  \n",
       "1746     0     0     0     0     0     0     0     0     0  \n",
       "\n",
       "[303 rows x 23 columns]"
      ]
     },
     "execution_count": 47,
     "metadata": {},
     "output_type": "execute_result"
    }
   ],
   "source": [
    "X_train"
   ]
  },
  {
   "cell_type": "code",
   "execution_count": 48,
   "metadata": {
    "_cell_guid": "b9d52736-becc-4e0b-8a0f-f0c6f75ab1dc",
    "_uuid": "f35729be-2121-41a3-b8d3-a900adc71446",
    "execution": {
     "iopub.execute_input": "2022-03-23T17:49:28.958810Z",
     "iopub.status.busy": "2022-03-23T17:49:28.958369Z",
     "iopub.status.idle": "2022-03-23T17:49:28.968145Z",
     "shell.execute_reply": "2022-03-23T17:49:28.967298Z",
     "shell.execute_reply.started": "2022-03-23T17:49:28.958760Z"
    },
    "jupyter": {
     "outputs_hidden": false
    }
   },
   "outputs": [],
   "source": [
    "lm = LinearRegression()"
   ]
  },
  {
   "cell_type": "code",
   "execution_count": 49,
   "metadata": {
    "_cell_guid": "9e792c98-b119-4293-b50b-d6512018a66c",
    "_uuid": "bc6978c8-00b8-443b-ba17-2ec98539ea9d",
    "execution": {
     "iopub.execute_input": "2022-03-23T17:49:28.969651Z",
     "iopub.status.busy": "2022-03-23T17:49:28.969364Z",
     "iopub.status.idle": "2022-03-23T17:49:29.002792Z",
     "shell.execute_reply": "2022-03-23T17:49:29.001911Z",
     "shell.execute_reply.started": "2022-03-23T17:49:28.969619Z"
    },
    "jupyter": {
     "outputs_hidden": false
    }
   },
   "outputs": [
    {
     "name": "stderr",
     "output_type": "stream",
     "text": [
      "c:\\users\\prasanth\\appdata\\local\\programs\\python\\python37\\lib\\site-packages\\sklearn\\utils\\validation.py:1679: FutureWarning: Feature names only support names that are all strings. Got feature names with dtypes: ['float', 'str']. An error will be raised in 1.2.\n",
      "  FutureWarning,\n"
     ]
    },
    {
     "data": {
      "text/plain": [
       "LinearRegression()"
      ]
     },
     "execution_count": 49,
     "metadata": {},
     "output_type": "execute_result"
    }
   ],
   "source": [
    "lm.fit(X_train, y_train)"
   ]
  },
  {
   "cell_type": "code",
   "execution_count": 50,
   "metadata": {
    "_cell_guid": "6a6035d0-b992-4cc8-9b89-ca83d64091e4",
    "_uuid": "3803b9c6-a75e-4b6c-9db4-33c354b1e5fe",
    "execution": {
     "iopub.execute_input": "2022-03-23T17:49:29.004880Z",
     "iopub.status.busy": "2022-03-23T17:49:29.004380Z",
     "iopub.status.idle": "2022-03-23T17:49:29.010564Z",
     "shell.execute_reply": "2022-03-23T17:49:29.009635Z",
     "shell.execute_reply.started": "2022-03-23T17:49:29.004836Z"
    },
    "jupyter": {
     "outputs_hidden": false
    }
   },
   "outputs": [],
   "source": [
    "coeff = pd.DataFrame(lm.coef_[0], X.columns, columns=[\"coefficient\"])"
   ]
  },
  {
   "cell_type": "code",
   "execution_count": 51,
   "metadata": {
    "_cell_guid": "c9c7d7c6-e37a-4192-9c2c-89753fb7a9d9",
    "_uuid": "0b99dfa4-1625-476b-bf0f-8d223e76739c",
    "execution": {
     "iopub.execute_input": "2022-03-23T17:49:29.012771Z",
     "iopub.status.busy": "2022-03-23T17:49:29.012056Z",
     "iopub.status.idle": "2022-03-23T17:49:29.029874Z",
     "shell.execute_reply": "2022-03-23T17:49:29.029028Z",
     "shell.execute_reply.started": "2022-03-23T17:49:29.012735Z"
    },
    "jupyter": {
     "outputs_hidden": false
    }
   },
   "outputs": [
    {
     "data": {
      "text/html": [
       "<div>\n",
       "<style scoped>\n",
       "    .dataframe tbody tr th:only-of-type {\n",
       "        vertical-align: middle;\n",
       "    }\n",
       "\n",
       "    .dataframe tbody tr th {\n",
       "        vertical-align: top;\n",
       "    }\n",
       "\n",
       "    .dataframe thead th {\n",
       "        text-align: right;\n",
       "    }\n",
       "</style>\n",
       "<table border=\"1\" class=\"dataframe\">\n",
       "  <thead>\n",
       "    <tr style=\"text-align: right;\">\n",
       "      <th></th>\n",
       "      <th>coefficient</th>\n",
       "    </tr>\n",
       "  </thead>\n",
       "  <tbody>\n",
       "    <tr>\n",
       "      <th>bus</th>\n",
       "      <td>6347.679105</td>\n",
       "    </tr>\n",
       "    <tr>\n",
       "      <th>metro</th>\n",
       "      <td>43765.369206</td>\n",
       "    </tr>\n",
       "    <tr>\n",
       "      <th>volume</th>\n",
       "      <td>12237.806899</td>\n",
       "    </tr>\n",
       "    <tr>\n",
       "      <th>rooms</th>\n",
       "      <td>-17314.248292</td>\n",
       "    </tr>\n",
       "    <tr>\n",
       "      <th>2.0</th>\n",
       "      <td>343986.265406</td>\n",
       "    </tr>\n",
       "    <tr>\n",
       "      <th>3.0</th>\n",
       "      <td>105446.875145</td>\n",
       "    </tr>\n",
       "    <tr>\n",
       "      <th>4.0</th>\n",
       "      <td>354421.263154</td>\n",
       "    </tr>\n",
       "    <tr>\n",
       "      <th>5.0</th>\n",
       "      <td>333081.129409</td>\n",
       "    </tr>\n",
       "    <tr>\n",
       "      <th>6.0</th>\n",
       "      <td>398277.264374</td>\n",
       "    </tr>\n",
       "    <tr>\n",
       "      <th>7.0</th>\n",
       "      <td>412036.550426</td>\n",
       "    </tr>\n",
       "    <tr>\n",
       "      <th>8.0</th>\n",
       "      <td>324572.594517</td>\n",
       "    </tr>\n",
       "    <tr>\n",
       "      <th>9.0</th>\n",
       "      <td>161534.650560</td>\n",
       "    </tr>\n",
       "    <tr>\n",
       "      <th>10.0</th>\n",
       "      <td>88147.128772</td>\n",
       "    </tr>\n",
       "    <tr>\n",
       "      <th>11.0</th>\n",
       "      <td>80265.352601</td>\n",
       "    </tr>\n",
       "    <tr>\n",
       "      <th>12.0</th>\n",
       "      <td>-3389.670805</td>\n",
       "    </tr>\n",
       "    <tr>\n",
       "      <th>13.0</th>\n",
       "      <td>-35229.535295</td>\n",
       "    </tr>\n",
       "    <tr>\n",
       "      <th>14.0</th>\n",
       "      <td>30493.017449</td>\n",
       "    </tr>\n",
       "    <tr>\n",
       "      <th>15.0</th>\n",
       "      <td>122631.175253</td>\n",
       "    </tr>\n",
       "    <tr>\n",
       "      <th>16.0</th>\n",
       "      <td>161916.416702</td>\n",
       "    </tr>\n",
       "    <tr>\n",
       "      <th>17.0</th>\n",
       "      <td>106641.272626</td>\n",
       "    </tr>\n",
       "    <tr>\n",
       "      <th>18.0</th>\n",
       "      <td>13948.810084</td>\n",
       "    </tr>\n",
       "    <tr>\n",
       "      <th>19.0</th>\n",
       "      <td>59497.128392</td>\n",
       "    </tr>\n",
       "    <tr>\n",
       "      <th>20.0</th>\n",
       "      <td>-91783.512296</td>\n",
       "    </tr>\n",
       "  </tbody>\n",
       "</table>\n",
       "</div>"
      ],
      "text/plain": [
       "          coefficient\n",
       "bus       6347.679105\n",
       "metro    43765.369206\n",
       "volume   12237.806899\n",
       "rooms   -17314.248292\n",
       "2.0     343986.265406\n",
       "3.0     105446.875145\n",
       "4.0     354421.263154\n",
       "5.0     333081.129409\n",
       "6.0     398277.264374\n",
       "7.0     412036.550426\n",
       "8.0     324572.594517\n",
       "9.0     161534.650560\n",
       "10.0     88147.128772\n",
       "11.0     80265.352601\n",
       "12.0     -3389.670805\n",
       "13.0    -35229.535295\n",
       "14.0     30493.017449\n",
       "15.0    122631.175253\n",
       "16.0    161916.416702\n",
       "17.0    106641.272626\n",
       "18.0     13948.810084\n",
       "19.0     59497.128392\n",
       "20.0    -91783.512296"
      ]
     },
     "execution_count": 51,
     "metadata": {},
     "output_type": "execute_result"
    }
   ],
   "source": [
    "coeff"
   ]
  },
  {
   "cell_type": "code",
   "execution_count": 52,
   "metadata": {
    "_cell_guid": "f5f01b0f-4e71-4276-9346-245f0e117b44",
    "_uuid": "c0a9ca5b-ccc2-4780-89f5-b087b8211983",
    "execution": {
     "iopub.execute_input": "2022-03-23T17:49:29.031796Z",
     "iopub.status.busy": "2022-03-23T17:49:29.031209Z",
     "iopub.status.idle": "2022-03-23T17:49:29.038638Z",
     "shell.execute_reply": "2022-03-23T17:49:29.037893Z",
     "shell.execute_reply.started": "2022-03-23T17:49:29.031639Z"
    },
    "jupyter": {
     "outputs_hidden": false
    }
   },
   "outputs": [
    {
     "name": "stderr",
     "output_type": "stream",
     "text": [
      "c:\\users\\prasanth\\appdata\\local\\programs\\python\\python37\\lib\\site-packages\\sklearn\\utils\\validation.py:1679: FutureWarning: Feature names only support names that are all strings. Got feature names with dtypes: ['float', 'str']. An error will be raised in 1.2.\n",
      "  FutureWarning,\n"
     ]
    }
   ],
   "source": [
    "predictions = lm.predict(X_test)"
   ]
  },
  {
   "cell_type": "code",
   "execution_count": 53,
   "metadata": {
    "_cell_guid": "781ba73e-5aa3-444a-9087-91582537cff0",
    "_uuid": "f542b254-7740-4de8-876f-f215e993b4f8",
    "execution": {
     "iopub.execute_input": "2022-03-23T17:49:29.040817Z",
     "iopub.status.busy": "2022-03-23T17:49:29.039967Z",
     "iopub.status.idle": "2022-03-23T17:49:29.268346Z",
     "shell.execute_reply": "2022-03-23T17:49:29.267386Z",
     "shell.execute_reply.started": "2022-03-23T17:49:29.040781Z"
    },
    "jupyter": {
     "outputs_hidden": false
    },
    "scrolled": true
   },
   "outputs": [
    {
     "data": {
      "text/plain": [
       "<matplotlib.collections.PathCollection at 0x23c4c69fa90>"
      ]
     },
     "execution_count": 53,
     "metadata": {},
     "output_type": "execute_result"
    },
    {
     "data": {
      "image/png": "[encoded data removed]",
      "text/plain": [
       "<Figure size 432x288 with 1 Axes>"
      ]
     },
     "metadata": {
      "needs_background": "light"
     },
     "output_type": "display_data"
    }
   ],
   "source": [
    "plt.scatter(np.arange(0,y_test.shape[0]).reshape(y_test.shape), y_test)\n",
    "plt.scatter(np.arange(0,y_test.shape[0]).reshape(y_test.shape), predictions)"
   ]
  },
  {
   "cell_type": "code",
   "execution_count": 54,
   "metadata": {},
   "outputs": [
    {
     "data": {
      "text/html": [
       "<div>\n",
       "<style scoped>\n",
       "    .dataframe tbody tr th:only-of-type {\n",
       "        vertical-align: middle;\n",
       "    }\n",
       "\n",
       "    .dataframe tbody tr th {\n",
       "        vertical-align: top;\n",
       "    }\n",
       "\n",
       "    .dataframe thead th {\n",
       "        text-align: right;\n",
       "    }\n",
       "</style>\n",
       "<table border=\"1\" class=\"dataframe\">\n",
       "  <thead>\n",
       "    <tr style=\"text-align: right;\">\n",
       "      <th></th>\n",
       "      <th>price</th>\n",
       "    </tr>\n",
       "  </thead>\n",
       "  <tbody>\n",
       "    <tr>\n",
       "      <th>count</th>\n",
       "      <td>1.300000e+02</td>\n",
       "    </tr>\n",
       "    <tr>\n",
       "      <th>mean</th>\n",
       "      <td>7.687116e+05</td>\n",
       "    </tr>\n",
       "    <tr>\n",
       "      <th>std</th>\n",
       "      <td>5.466646e+05</td>\n",
       "    </tr>\n",
       "    <tr>\n",
       "      <th>min</th>\n",
       "      <td>1.050000e+05</td>\n",
       "    </tr>\n",
       "    <tr>\n",
       "      <th>25%</th>\n",
       "      <td>4.260000e+05</td>\n",
       "    </tr>\n",
       "    <tr>\n",
       "      <th>50%</th>\n",
       "      <td>6.400000e+05</td>\n",
       "    </tr>\n",
       "    <tr>\n",
       "      <th>75%</th>\n",
       "      <td>8.966250e+05</td>\n",
       "    </tr>\n",
       "    <tr>\n",
       "      <th>max</th>\n",
       "      <td>3.500000e+06</td>\n",
       "    </tr>\n",
       "  </tbody>\n",
       "</table>\n",
       "</div>"
      ],
      "text/plain": [
       "              price\n",
       "count  1.300000e+02\n",
       "mean   7.687116e+05\n",
       "std    5.466646e+05\n",
       "min    1.050000e+05\n",
       "25%    4.260000e+05\n",
       "50%    6.400000e+05\n",
       "75%    8.966250e+05\n",
       "max    3.500000e+06"
      ]
     },
     "execution_count": 54,
     "metadata": {},
     "output_type": "execute_result"
    }
   ],
   "source": [
    "y_test.describe()"
   ]
  },
  {
   "cell_type": "code",
   "execution_count": 55,
   "metadata": {
    "_cell_guid": "895a0527-90d7-475c-a1a6-23412c47f807",
    "_uuid": "c4352095-7baa-446c-92bd-435bf63d62e2",
    "execution": {
     "iopub.execute_input": "2022-03-23T17:49:29.270302Z",
     "iopub.status.busy": "2022-03-23T17:49:29.270058Z",
     "iopub.status.idle": "2022-03-23T17:49:29.847697Z",
     "shell.execute_reply": "2022-03-23T17:49:29.846985Z",
     "shell.execute_reply.started": "2022-03-23T17:49:29.270272Z"
    },
    "jupyter": {
     "outputs_hidden": false
    }
   },
   "outputs": [
    {
     "data": {
      "text/plain": [
       "<seaborn.axisgrid.FacetGrid at 0x23c4c6d3ac8>"
      ]
     },
     "execution_count": 55,
     "metadata": {},
     "output_type": "execute_result"
    },
    {
     "data": {
      "image/png": "[encoded data removed]",
      "text/plain": [
       "<Figure size 420.875x360 with 1 Axes>"
      ]
     },
     "metadata": {
      "needs_background": "light"
     },
     "output_type": "display_data"
    }
   ],
   "source": [
    "sns.displot((y_test - predictions), bins=50, kde=True)"
   ]
  },
  {
   "cell_type": "code",
   "execution_count": 56,
   "metadata": {
    "_cell_guid": "7da85114-5310-4082-b1b9-97e64bde0e8f",
    "_uuid": "838e9ee1-8a58-4ec4-90bc-0376370e5b0b",
    "execution": {
     "iopub.execute_input": "2022-03-23T17:49:29.849452Z",
     "iopub.status.busy": "2022-03-23T17:49:29.849190Z",
     "iopub.status.idle": "2022-03-23T17:49:29.860941Z",
     "shell.execute_reply": "2022-03-23T17:49:29.859973Z",
     "shell.execute_reply.started": "2022-03-23T17:49:29.849421Z"
    },
    "jupyter": {
     "outputs_hidden": false
    }
   },
   "outputs": [
    {
     "name": "stdout",
     "output_type": "stream",
     "text": [
      "MAE: 114062.3789486279\n",
      "MSE: 25851574112.690586\n",
      "RMSE: 160784.2470912203\n"
     ]
    }
   ],
   "source": [
    "print('MAE:', metrics.mean_absolute_error(y_test, predictions))\n",
    "print('MSE:', metrics.mean_squared_error(y_test, predictions))\n",
    "print('RMSE:', np.sqrt(metrics.mean_squared_error(y_test, predictions)))"
   ]
  },
  {
   "cell_type": "code",
   "execution_count": 57,
   "metadata": {
    "_cell_guid": "12f2707c-ff58-498f-9ea6-96d1e3bb8d50",
    "_uuid": "11cf2378-4a08-445b-a0ed-f3b8645e7e85",
    "execution": {
     "iopub.execute_input": "2022-03-23T17:49:29.862302Z",
     "iopub.status.busy": "2022-03-23T17:49:29.862083Z",
     "iopub.status.idle": "2022-03-23T17:49:29.869454Z",
     "shell.execute_reply": "2022-03-23T17:49:29.868856Z",
     "shell.execute_reply.started": "2022-03-23T17:49:29.862276Z"
    },
    "jupyter": {
     "outputs_hidden": false
    },
    "scrolled": false
   },
   "outputs": [
    {
     "name": "stdout",
     "output_type": "stream",
     "text": [
      "91.28236469624333 %\n"
     ]
    }
   ],
   "source": [
    "r2_score = lm.score(X_test.values,y_test.values)\n",
    "print(r2_score*100,'%')"
   ]
  },
  {
   "cell_type": "code",
   "execution_count": null,
   "metadata": {},
   "outputs": [],
   "source": []
  },
  {
   "cell_type": "code",
   "execution_count": 58,
   "metadata": {},
   "outputs": [],
   "source": [
    "import pickle"
   ]
  },
  {
   "cell_type": "code",
   "execution_count": 66,
   "metadata": {
    "_cell_guid": "7f04884d-854d-449b-8b74-71e91439ddd7",
    "_uuid": "5d848225-016c-4d2d-adc1-d2a0f50a1ab0",
    "jupyter": {
     "outputs_hidden": false
    }
   },
   "outputs": [],
   "source": [
    "filename = 'linear_regression_model.pickle'\n",
    "#pickle.dump(lm, open(filename, 'wb'))"
   ]
  },
  {
   "cell_type": "code",
   "execution_count": 67,
   "metadata": {},
   "outputs": [
    {
     "data": {
      "text/plain": [
       "array([[512650.35859399]])"
      ]
     },
     "execution_count": 67,
     "metadata": {},
     "output_type": "execute_result"
    }
   ],
   "source": [
    "lm.predict([X_test[:].iloc[1].values])"
   ]
  },
  {
   "cell_type": "code",
   "execution_count": 68,
   "metadata": {},
   "outputs": [
    {
     "data": {
      "text/plain": [
       "(23,)"
      ]
     },
     "execution_count": 68,
     "metadata": {},
     "output_type": "execute_result"
    }
   ],
   "source": [
    "X_test[:].iloc[0].values.shape"
   ]
  },
  {
   "cell_type": "code",
   "execution_count": 69,
   "metadata": {},
   "outputs": [
    {
     "data": {
      "text/plain": [
       "array([388000])"
      ]
     },
     "execution_count": 69,
     "metadata": {},
     "output_type": "execute_result"
    }
   ],
   "source": [
    "y_test[:].iloc[1].values"
   ]
  },
  {
   "cell_type": "code",
   "execution_count": 70,
   "metadata": {},
   "outputs": [],
   "source": [
    "test = pd.DataFrame(y_test)"
   ]
  },
  {
   "cell_type": "code",
   "execution_count": 71,
   "metadata": {},
   "outputs": [],
   "source": [
    "test['pred'] = predictions.astype(int)"
   ]
  },
  {
   "cell_type": "code",
   "execution_count": 72,
   "metadata": {},
   "outputs": [
    {
     "data": {
      "text/html": [
       "<div>\n",
       "<style scoped>\n",
       "    .dataframe tbody tr th:only-of-type {\n",
       "        vertical-align: middle;\n",
       "    }\n",
       "\n",
       "    .dataframe tbody tr th {\n",
       "        vertical-align: top;\n",
       "    }\n",
       "\n",
       "    .dataframe thead th {\n",
       "        text-align: right;\n",
       "    }\n",
       "</style>\n",
       "<table border=\"1\" class=\"dataframe\">\n",
       "  <thead>\n",
       "    <tr style=\"text-align: right;\">\n",
       "      <th></th>\n",
       "      <th>price</th>\n",
       "      <th>pred</th>\n",
       "    </tr>\n",
       "  </thead>\n",
       "  <tbody>\n",
       "    <tr>\n",
       "      <th>1461</th>\n",
       "      <td>1270000</td>\n",
       "      <td>906345</td>\n",
       "    </tr>\n",
       "    <tr>\n",
       "      <th>1827</th>\n",
       "      <td>388000</td>\n",
       "      <td>512650</td>\n",
       "    </tr>\n",
       "    <tr>\n",
       "      <th>1260</th>\n",
       "      <td>105000</td>\n",
       "      <td>83031</td>\n",
       "    </tr>\n",
       "    <tr>\n",
       "      <th>1781</th>\n",
       "      <td>2950000</td>\n",
       "      <td>2867702</td>\n",
       "    </tr>\n",
       "    <tr>\n",
       "      <th>539</th>\n",
       "      <td>1198000</td>\n",
       "      <td>1346957</td>\n",
       "    </tr>\n",
       "    <tr>\n",
       "      <th>...</th>\n",
       "      <td>...</td>\n",
       "      <td>...</td>\n",
       "    </tr>\n",
       "    <tr>\n",
       "      <th>1440</th>\n",
       "      <td>1100000</td>\n",
       "      <td>653038</td>\n",
       "    </tr>\n",
       "    <tr>\n",
       "      <th>1125</th>\n",
       "      <td>350000</td>\n",
       "      <td>340015</td>\n",
       "    </tr>\n",
       "    <tr>\n",
       "      <th>1426</th>\n",
       "      <td>345000</td>\n",
       "      <td>397433</td>\n",
       "    </tr>\n",
       "    <tr>\n",
       "      <th>1594</th>\n",
       "      <td>598000</td>\n",
       "      <td>579611</td>\n",
       "    </tr>\n",
       "    <tr>\n",
       "      <th>1532</th>\n",
       "      <td>2200000</td>\n",
       "      <td>1857860</td>\n",
       "    </tr>\n",
       "  </tbody>\n",
       "</table>\n",
       "<p>130 rows × 2 columns</p>\n",
       "</div>"
      ],
      "text/plain": [
       "        price     pred\n",
       "1461  1270000   906345\n",
       "1827   388000   512650\n",
       "1260   105000    83031\n",
       "1781  2950000  2867702\n",
       "539   1198000  1346957\n",
       "...       ...      ...\n",
       "1440  1100000   653038\n",
       "1125   350000   340015\n",
       "1426   345000   397433\n",
       "1594   598000   579611\n",
       "1532  2200000  1857860\n",
       "\n",
       "[130 rows x 2 columns]"
      ]
     },
     "execution_count": 72,
     "metadata": {},
     "output_type": "execute_result"
    }
   ],
   "source": [
    "test"
   ]
  },
  {
   "cell_type": "code",
   "execution_count": null,
   "metadata": {},
   "outputs": [],
   "source": []
  }
 ],
 "metadata": {
  "kernelspec": {
   "display_name": "Python 3",
   "language": "python",
   "name": "python3"
  },
  "language_info": {
   "codemirror_mode": {
    "name": "ipython",
    "version": 3
   },
   "file_extension": ".py",
   "mimetype": "text/x-python",
   "name": "python",
   "nbconvert_exporter": "python",
   "pygments_lexer": "ipython3",
   "version": "3.7.0"
  }
 },
 "nbformat": 4,
 "nbformat_minor": 4
}
