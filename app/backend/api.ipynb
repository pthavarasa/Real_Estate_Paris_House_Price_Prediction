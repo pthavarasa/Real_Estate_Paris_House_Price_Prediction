{
 "cells": [
  {
   "cell_type": "code",
   "execution_count": 1,
   "id": "88a42d77",
   "metadata": {},
   "outputs": [],
   "source": [
    "import pickle\n",
    "import pandas as pd"
   ]
  },
  {
   "cell_type": "code",
   "execution_count": 2,
   "id": "77c0160e",
   "metadata": {},
   "outputs": [],
   "source": [
    "columns = ['Boulangerie', 'Ecole primaire', 'Monument historique',\n",
    "       'Supérette', 'Terrain et Salle de sport', 'wc', 'bathtub',\n",
    "       'bedrooms', 'volume', 'rooms', 16.0]"
   ]
  },
  {
   "cell_type": "code",
   "execution_count": 3,
   "id": "55e11ed4",
   "metadata": {},
   "outputs": [],
   "source": [
    "values = [9.,  5.,  6.,  6., 14.,  1.,  1.,  2., 60.,  3.,  0.]"
   ]
  },
  {
   "cell_type": "code",
   "execution_count": 6,
   "id": "33898f7f",
   "metadata": {},
   "outputs": [],
   "source": [
    "filename = '../../model/xgboost_regression_model_min.pickle'"
   ]
  },
  {
   "cell_type": "code",
   "execution_count": 7,
   "id": "b0ceabf9",
   "metadata": {},
   "outputs": [],
   "source": [
    "classifier = pickle.load(open(filename, \"rb\"))"
   ]
  },
  {
   "cell_type": "code",
   "execution_count": 11,
   "id": "54452df0",
   "metadata": {},
   "outputs": [
    {
     "data": {
      "text/plain": [
       "array([695475.4], dtype=float32)"
      ]
     },
     "execution_count": 11,
     "metadata": {},
     "output_type": "execute_result"
    }
   ],
   "source": [
    "#classifier.predict([values])\n",
    "classifier.predict(pd.DataFrame([values], columns=columns))"
   ]
  },
  {
   "cell_type": "code",
   "execution_count": null,
   "id": "068b8708",
   "metadata": {},
   "outputs": [],
   "source": []
  }
 ],
 "metadata": {
  "kernelspec": {
   "display_name": "Python 3",
   "language": "python",
   "name": "python3"
  },
  "language_info": {
   "codemirror_mode": {
    "name": "ipython",
    "version": 3
   },
   "file_extension": ".py",
   "mimetype": "text/x-python",
   "name": "python",
   "nbconvert_exporter": "python",
   "pygments_lexer": "ipython3",
   "version": "3.7.0"
  }
 },
 "nbformat": 4,
 "nbformat_minor": 5
}
