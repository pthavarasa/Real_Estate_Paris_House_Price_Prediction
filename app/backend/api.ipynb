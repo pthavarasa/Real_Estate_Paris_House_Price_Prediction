{
 "cells": [
  {
   "cell_type": "code",
   "execution_count": 3,
   "id": "88a42d77",
   "metadata": {},
   "outputs": [],
   "source": [
    "import pickle\n",
    "import pandas as pd"
   ]
  },
  {
   "cell_type": "code",
   "execution_count": 4,
   "id": "77c0160e",
   "metadata": {},
   "outputs": [],
   "source": [
    "columns = ['bus', 'metro', \"Autolib'\", 'Banque', 'Bar', 'Boucherie',\n",
    "       'Boulangerie', 'Bureau de poste', 'Cinéma', 'Collège', 'Crèche',\n",
    "       'Ecole maternelle', 'Ecole primaire', 'Enseignement supérieur',\n",
    "       'Gare ferroviaire', 'Hôpital', 'Location de vélo', 'Ludothèque',\n",
    "       'Lycée', 'Marché de quartier', 'Monument historique',\n",
    "       'Médecin généraliste', 'Médecin spécialiste',\n",
    "       'Parc, Jardin et Square', 'Parking', 'Pharmacie',\n",
    "       'Presse et Tabac', 'Restaurant',\n",
    "       'Salle de musculation / cardiotraining', 'Station de taxi',\n",
    "       'Station service', 'Supermarché et Hypermarché', 'Supérette',\n",
    "       'Terrain et Salle de sport', 'Théâtre', \"Vélib'\", 'built', 'stage',\n",
    "       'wc', 'shower', 'bathtub', 'room', 'bedrooms', 'volume', 'rooms',\n",
    "       0.0, 2.0, 3.0, 4.0, 5.0, 6.0, 7.0, 8.0, 9.0, 10.0, 11.0, 12.0,\n",
    "       13.0, 14.0, 15.0, 16.0, 17.0, 18.0, 19.0, 20.0]"
   ]
  },
  {
   "cell_type": "code",
   "execution_count": 5,
   "id": "55e11ed4",
   "metadata": {},
   "outputs": [],
   "source": [
    "values = [11.0, 1.0, 5.0, 8.0, 6.0, 5.0, 9.0, 2.0, 0.0, 1.0, 8.0, 3.0, 5.0, 7.0, 0.0, 0.0, 12.0, 0.0, 4.0, 1.0, 6.0, 29.0, 48.0, 7.0, 2.0, 15.0, 3.0, 61.0, 1.0, 0.0, 3.0, 10.0, 6.0, 14.0, 1.0, 14.0, 1933.0, 3.0, 1.0, 0.0, 1.0, 3.0, 2.0, 60.0, 3.0, 0.0, 0.0, 0.0, 0.0, 0.0, 0.0, 0.0, 0.0, 0.0, 0.0, 0.0, 0.0, 0.0, 0.0, 1.0, 0.0, 0.0, 0.0, 0.0, 0.0]"
   ]
  },
  {
   "cell_type": "code",
   "execution_count": 8,
   "id": "33898f7f",
   "metadata": {},
   "outputs": [],
   "source": [
    "filename = '../../model/xgboost_regression_model.pickle'"
   ]
  },
  {
   "cell_type": "code",
   "execution_count": 9,
   "id": "b0ceabf9",
   "metadata": {},
   "outputs": [],
   "source": [
    "classifier = pickle.load(open(filename, \"rb\"))"
   ]
  },
  {
   "cell_type": "code",
   "execution_count": 12,
   "id": "54452df0",
   "metadata": {},
   "outputs": [
    {
     "data": {
      "text/plain": [
       "array([695254.25], dtype=float32)"
      ]
     },
     "execution_count": 12,
     "metadata": {},
     "output_type": "execute_result"
    }
   ],
   "source": [
    "classifier.predict(pd.DataFrame([values], columns=columns))"
   ]
  },
  {
   "cell_type": "code",
   "execution_count": null,
   "id": "068b8708",
   "metadata": {},
   "outputs": [],
   "source": []
  }
 ],
 "metadata": {
  "kernelspec": {
   "display_name": "Python 3",
   "language": "python",
   "name": "python3"
  },
  "language_info": {
   "codemirror_mode": {
    "name": "ipython",
    "version": 3
   },
   "file_extension": ".py",
   "mimetype": "text/x-python",
   "name": "python",
   "nbconvert_exporter": "python",
   "pygments_lexer": "ipython3",
   "version": "3.7.0"
  }
 },
 "nbformat": 4,
 "nbformat_minor": 5
}
